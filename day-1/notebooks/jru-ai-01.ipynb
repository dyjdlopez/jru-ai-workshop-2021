{
  "nbformat": 4,
  "nbformat_minor": 0,
  "metadata": {
    "colab": {
      "name": "ICpEP AI D1-01",
      "provenance": [],
      "collapsed_sections": [],
      "toc_visible": true
    },
    "kernelspec": {
      "name": "python3",
      "display_name": "Python 3"
    }
  },
  "cells": [
    {
      "cell_type": "code",
      "metadata": {
        "id": "xM4gHl2uN5lS"
      },
      "source": [
        "#@title Licensed under the Apache License, Version 2.0 (the \"License\");\n",
        "# you may not use this file except in compliance with the License.\n",
        "# You may obtain a copy of the License at\n",
        "#\n",
        "# https://www.apache.org/licenses/LICENSE-2.0\n",
        "#\n",
        "# Unless required by applicable law or agreed to in writing, software\n",
        "# distributed under the License is distributed on an \"AS IS\" BASIS,\n",
        "# WITHOUT WARRANTIES OR CONDITIONS OF ANY KIND, either express or implied.\n",
        "# See the License for the specific language governing permissions and\n",
        "# limitations under the License."
      ],
      "execution_count": null,
      "outputs": []
    },
    {
      "cell_type": "markdown",
      "metadata": {
        "id": "nmlbaSIcpQQq"
      },
      "source": [
        "# Linear Algebra for CpE\n",
        "Copyright D.Lopez 2019 | All Rights reserved <br><br>\n",
        "Linear Algebra is one of the fundamental mathematics for Artificial Intelligence Development and also Computer Vision. We will see the applications of Linear Algebra in advanced mathematical techniques such as optimization, vectorized programming, and matrix manipulations. Today we will try to understand the basics of Linear Algebra using Python."
      ]
    },
    {
      "cell_type": "markdown",
      "metadata": {
        "id": "spo5UkflpMdV"
      },
      "source": [
        "# Part 1 : Getting in the Matrix\n",
        "Developing matrices and the operations thereof are the fundamental operation for any A.I. task. The advent of A.I. computing happened when matrix operations can be solved programatically and efficiently by processors. "
      ]
    },
    {
      "cell_type": "markdown",
      "metadata": {
        "id": "ozfKCG4JrglZ"
      },
      "source": [
        "## 1.1 NumPy\n",
        "NumPy or Numerical Python is a package or library that allows programmers to code and model computations and see them in action. You can check the [NumPy documentation](https://numpy.org/doc/stable/reference/index.html) on how to use their APIs."
      ]
    },
    {
      "cell_type": "code",
      "metadata": {
        "colab": {
          "base_uri": "https://localhost:8080/"
        },
        "id": "80o9t5AtrgV6",
        "outputId": "040f92c9-6929-4493-ee34-c1c1873244d8"
      },
      "source": [
        "## You can install NumPy in your local machine by doing the following line without the \"!\"\n",
        "!pip install numpy\n",
        "## But in Google Colab NumPy is already installed in your session.\n",
        "import numpy as np\n",
        "print(f'NumPy library version: {np.__version__}')"
      ],
      "execution_count": null,
      "outputs": [
        {
          "output_type": "stream",
          "text": [
            "Requirement already satisfied: numpy in /usr/local/lib/python3.6/dist-packages (1.19.4)\n",
            "NumPy library version: 1.19.4\n"
          ],
          "name": "stdout"
        }
      ]
    },
    {
      "cell_type": "markdown",
      "metadata": {
        "id": "RhVmwQLNs3PK"
      },
      "source": [
        "### 1.1.1 Defining Vectors, Matrices, and Tensors\n",
        "Vectors, Matrices, and Tensors are the fundamental objects in Linear Algebra programming. We'll be defining each of these objects specifically in the Computer Science/Engineering perspective since it would be much confusing if we consider their Physics and Pure Mathematics definitions.\n",
        "\n",
        "\n"
      ]
    },
    {
      "cell_type": "markdown",
      "metadata": {
        "id": "A278_0rxoTf4"
      },
      "source": [
        "#### <i>Scalars</i>\n",
        "Scalars are numerical entities that are represented by a single value. "
      ]
    },
    {
      "cell_type": "markdown",
      "metadata": {
        "id": "6glvPrqBuKfZ"
      },
      "source": [
        "#### *Vectors*\n",
        "Vectors are array of numerical values or scalars that would represent any feature space. Feature spaces or simply dimensions or the parameters of an equation or a function."
      ]
    },
    {
      "cell_type": "code",
      "metadata": {
        "colab": {
          "base_uri": "https://localhost:8080/"
        },
        "id": "KfDkDS-KvJhp",
        "outputId": "69cd218b-812f-4f4c-fe75-fc12027e0b2f"
      },
      "source": [
        "## Defining a vector in NumPy\n",
        "x = np.array([2,4,8])\n",
        "print(x)\n",
        "print(x.shape)\n",
        "print(x.ndim)"
      ],
      "execution_count": null,
      "outputs": [
        {
          "output_type": "stream",
          "text": [
            "[2 4 8]\n",
            "(3,)\n",
            "1\n"
          ],
          "name": "stdout"
        }
      ]
    },
    {
      "cell_type": "markdown",
      "metadata": {
        "id": "0EnR5ww0uYvF"
      },
      "source": [
        "#### *Matrices*\n",
        "Matrices are array of vectors or a multi-dimensional array for features for an equation or function."
      ]
    },
    {
      "cell_type": "code",
      "metadata": {
        "colab": {
          "base_uri": "https://localhost:8080/"
        },
        "id": "MnftkT5_wPBg",
        "outputId": "a6b3a528-1c1a-448f-e99d-046c342d1d29"
      },
      "source": [
        "## Defining a matric in NumPy\n",
        "A = np.array([\n",
        "              [1,2,3],\n",
        "              [2,4,8],\n",
        "              [3,6,9],\n",
        "              [4,8,12]\n",
        "])\n",
        "print(A)\n",
        "print(A.shape)\n",
        "print(A.ndim)"
      ],
      "execution_count": null,
      "outputs": [
        {
          "output_type": "stream",
          "text": [
            "[[ 1  2  3]\n",
            " [ 2  4  8]\n",
            " [ 3  6  9]\n",
            " [ 4  8 12]]\n",
            "(4, 3)\n",
            "2\n"
          ],
          "name": "stdout"
        }
      ]
    },
    {
      "cell_type": "markdown",
      "metadata": {
        "id": "iwGLuAEZuY39"
      },
      "source": [
        "#### *Tensors*\n",
        "Tensors are an array of matrices. Tensors have dimensions, tensors can have alternate names depending on what dimension they are in. 1D tensors can be considered as vectors, 2D tensors can be considered are matrices, and 3D onwards are called high dimensional tensors."
      ]
    },
    {
      "cell_type": "code",
      "metadata": {
        "colab": {
          "base_uri": "https://localhost:8080/"
        },
        "id": "JdyZWwPsuKJZ",
        "outputId": "cba26fe1-273c-4d95-ca57-5be0093c8673"
      },
      "source": [
        "tau=  np.array([\n",
        "                [\n",
        "                 [0,0,0],\n",
        "                 [0,0,0],\n",
        "                 [0,0,0]\n",
        "                 ],\n",
        "                [\n",
        "                 [127,127,127],\n",
        "                 [127,127,127],\n",
        "                 [127,127,127]\n",
        "                 ],\n",
        "                [\n",
        "                 [255,255,255],\n",
        "                 [255,255,255],\n",
        "                 [255,255,255]\n",
        "                 ],\n",
        "])\n",
        "print(tau)\n",
        "print(tau.shape)\n",
        "print(tau.ndim)"
      ],
      "execution_count": null,
      "outputs": [
        {
          "output_type": "stream",
          "text": [
            "[[[  0   0   0]\n",
            "  [  0   0   0]\n",
            "  [  0   0   0]]\n",
            "\n",
            " [[127 127 127]\n",
            "  [127 127 127]\n",
            "  [127 127 127]]\n",
            "\n",
            " [[255 255 255]\n",
            "  [255 255 255]\n",
            "  [255 255 255]]]\n",
            "(3, 3, 3)\n",
            "3\n"
          ],
          "name": "stdout"
        }
      ]
    },
    {
      "cell_type": "markdown",
      "metadata": {
        "id": "aPuOr6gXsOtx"
      },
      "source": [
        "Here's a visual representation of the data types that we are going to use. <br>\n",
        "<img src=\"https://static.javatpoint.com/tutorial/pytorch/images/pytorch-tensors.png\">\n",
        "\n"
      ]
    },
    {
      "cell_type": "markdown",
      "metadata": {
        "id": "x5nPnTjskRMN"
      },
      "source": [
        "### 1.1.2 Describing Tensors\n",
        "\n",
        "Describing tensors is very important if we want to perform basic to advanced operations with them. The fundamental ways in describing tensors are knowing their shape, size, and dimensions.\n",
        "\n"
      ]
    },
    {
      "cell_type": "markdown",
      "metadata": {
        "id": "b8_GFdY_kn3j"
      },
      "source": [
        "#### <i>Shapes</i>\n",
        "The shape of a tensor tells us how many rows and columns are there in an axis.\n"
      ]
    },
    {
      "cell_type": "code",
      "metadata": {
        "id": "PKeRKLb9rfNY"
      },
      "source": [
        "A = np.array([1,2,3,4])\n",
        "B = np.array([\n",
        "              [1,2,3],\n",
        "              [3,4,5],\n",
        "              [5,6,7]\n",
        "])\n",
        "C = np.array([\n",
        "              [[1,2],\n",
        "               [3,4]],\n",
        "              [[2,4],\n",
        "               [6,8]]\n",
        "\n",
        "])"
      ],
      "execution_count": null,
      "outputs": []
    },
    {
      "cell_type": "code",
      "metadata": {
        "id": "BC2PJ_pDwNSU",
        "colab": {
          "base_uri": "https://localhost:8080/"
        },
        "outputId": "04abe93f-77bd-42da-da1f-fe032f3bef24"
      },
      "source": [
        "A.shape"
      ],
      "execution_count": null,
      "outputs": [
        {
          "output_type": "execute_result",
          "data": {
            "text/plain": [
              "(4,)"
            ]
          },
          "metadata": {
            "tags": []
          },
          "execution_count": 8
        }
      ]
    },
    {
      "cell_type": "code",
      "metadata": {
        "colab": {
          "base_uri": "https://localhost:8080/"
        },
        "id": "hJE5MU2jl86j",
        "outputId": "543d13ac-e876-456e-a440-6d79f0a91c08"
      },
      "source": [
        "B.shape"
      ],
      "execution_count": null,
      "outputs": [
        {
          "output_type": "execute_result",
          "data": {
            "text/plain": [
              "(3, 3)"
            ]
          },
          "metadata": {
            "tags": []
          },
          "execution_count": 9
        }
      ]
    },
    {
      "cell_type": "code",
      "metadata": {
        "colab": {
          "base_uri": "https://localhost:8080/"
        },
        "id": "3y7S62D_l9rM",
        "outputId": "fb5b23ea-ca40-4033-bd52-d9c9835d4f87"
      },
      "source": [
        "C.shape"
      ],
      "execution_count": null,
      "outputs": [
        {
          "output_type": "execute_result",
          "data": {
            "text/plain": [
              "(2, 2, 2)"
            ]
          },
          "metadata": {
            "tags": []
          },
          "execution_count": 10
        }
      ]
    },
    {
      "cell_type": "markdown",
      "metadata": {
        "id": "9dxbBmV-mIJM"
      },
      "source": [
        "#### <i>Dimensions</i>\n",
        "In NumPy the dimension of a tensor is also called axes."
      ]
    },
    {
      "cell_type": "code",
      "metadata": {
        "colab": {
          "base_uri": "https://localhost:8080/"
        },
        "id": "-RojGnHdoE4q",
        "outputId": "f5cb2db3-c12b-40fc-cb30-ebe98ad873d4"
      },
      "source": [
        "w = np.array(1)\n",
        "w.ndim"
      ],
      "execution_count": null,
      "outputs": [
        {
          "output_type": "execute_result",
          "data": {
            "text/plain": [
              "0"
            ]
          },
          "metadata": {
            "tags": []
          },
          "execution_count": 11
        }
      ]
    },
    {
      "cell_type": "code",
      "metadata": {
        "colab": {
          "base_uri": "https://localhost:8080/"
        },
        "id": "6MjRaxEWl-4D",
        "outputId": "ea625ee1-d015-4bd2-c6b2-80526bf28561"
      },
      "source": [
        "A.ndim"
      ],
      "execution_count": null,
      "outputs": [
        {
          "output_type": "execute_result",
          "data": {
            "text/plain": [
              "1"
            ]
          },
          "metadata": {
            "tags": []
          },
          "execution_count": 12
        }
      ]
    },
    {
      "cell_type": "code",
      "metadata": {
        "colab": {
          "base_uri": "https://localhost:8080/"
        },
        "id": "8asXHTjvm12D",
        "outputId": "15b2b700-b4c0-4d24-d06c-35c9a584b562"
      },
      "source": [
        "B.ndim"
      ],
      "execution_count": null,
      "outputs": [
        {
          "output_type": "execute_result",
          "data": {
            "text/plain": [
              "2"
            ]
          },
          "metadata": {
            "tags": []
          },
          "execution_count": 13
        }
      ]
    },
    {
      "cell_type": "code",
      "metadata": {
        "colab": {
          "base_uri": "https://localhost:8080/"
        },
        "id": "Pj4An4Fmm3oL",
        "outputId": "d150082d-22fe-45ee-a8ef-f17c897fd60d"
      },
      "source": [
        "C.ndim"
      ],
      "execution_count": null,
      "outputs": [
        {
          "output_type": "execute_result",
          "data": {
            "text/plain": [
              "3"
            ]
          },
          "metadata": {
            "tags": []
          },
          "execution_count": 14
        }
      ]
    },
    {
      "cell_type": "markdown",
      "metadata": {
        "id": "zVT6zeA9o6pk"
      },
      "source": [
        "#### <i>Sizes</i>\n",
        "The size of a tensor/ vector/ matrix is simply the total number of elements in it."
      ]
    },
    {
      "cell_type": "code",
      "metadata": {
        "colab": {
          "base_uri": "https://localhost:8080/"
        },
        "id": "Qx544xWJm5KC",
        "outputId": "3dfbfadf-b47a-4276-f2ec-b6ff07b78c97"
      },
      "source": [
        "print(w.size)\n",
        "print(A.size)\n",
        "print(B.size)\n",
        "print(C.size)"
      ],
      "execution_count": null,
      "outputs": [
        {
          "output_type": "stream",
          "text": [
            "1\n",
            "4\n",
            "9\n",
            "8\n"
          ],
          "name": "stdout"
        }
      ]
    },
    {
      "cell_type": "markdown",
      "metadata": {
        "id": "KC1J6iHVr7dC"
      },
      "source": [
        "## 1.2 Types of Matrices"
      ]
    },
    {
      "cell_type": "markdown",
      "metadata": {
        "id": "_HKC0YxQv6M5"
      },
      "source": [
        "The notation and use of matrices are probably one of the fundamentals of modern computing. Matrices are also handy representations of complex equations or multiple inter-related equations from 2-dimensional equations to even hundreds and thousands of them.\n",
        "\n",
        "Let's say for example you have $A$ and $B$ as the system of equations.\n",
        "\n",
        "$$\n",
        "A = \\left\\{\n",
        "    \\begin{array}\\\\\n",
        "        x + y \\\\ \n",
        "        4x - 10y\n",
        "    \\end{array}\n",
        "\\right. \\\\\n",
        "B = \\left\\{\n",
        "    \\begin{array}\\\\\n",
        "        x+y+z \\\\ \n",
        "        3x -2y -z \\\\\n",
        "        -x + 4y +2z\n",
        "    \\end{array}\n",
        "\\right. $$\n",
        "\n",
        "We could see that $A$ is a system of 2 equations with 2 parameters. While $B$ is a system of 3 equations with 3 parameters. We can represent them as matrices as:\n",
        "\n",
        "$$\n",
        "A=\\begin{bmatrix} 1 & 1 \\\\ 4 & {-10}\\end{bmatrix} \\\\\n",
        "B=\\begin{bmatrix} 1 & 1 & 1 \\\\ 3 & -2 & -1 \\\\ -1 & 4 & 2\\end{bmatrix}\n",
        "$$\n"
      ]
    },
    {
      "cell_type": "markdown",
      "metadata": {
        "id": "sGrLgAkrwLpY"
      },
      "source": [
        "We'll represent the system of linear equations as a matrix. The entities or numbers in matrices are called the elements of a matrix. These elements are arranged and ordered in rows and columns which form the list/array-like structure of matrices. And just like arrays, these elements are indexed according to their position with respect to their rows and columns. This can be represented just like the equation below. Whereas $A$ is a matrix consisting of elements denoted by $a_{i,j}$. Denoted by $i$ is the number of rows in the matrix while $j$ stands for the number of columns.<br>\n",
        "Do note that the $size$ of a matrix is $i\\times j$.\n",
        "$$A=\\begin{bmatrix}\n",
        "a_{(0,0)}&a_{(0,1)}&\\dots&a_{(0,j-1)}\\\\\n",
        "a_{(1,0)}&a_{(1,1)}&\\dots&a_{(1,j-1)}\\\\\n",
        "\\vdots&\\vdots&\\ddots&\\vdots&\\\\\n",
        "a_{(i-1,0)}&a_{(i-1,1)}&\\dots&a_{(i-1,j-1)}\n",
        "\\end{bmatrix}\n",
        "$$\n",
        "We already gone over some of the types of matrices as vectors but we'll further discuss them in this laboratory activity. Since you already know how to describe vectors using shape, dimensions and size attributes, we'll use them to analyze these matrices."
      ]
    },
    {
      "cell_type": "code",
      "metadata": {
        "id": "bXdmlcIgoD7i"
      },
      "source": [
        "def describe_mat(matrix):\n",
        "    print(f'Matrix:\\n{matrix}\\n\\nShape:\\t{matrix.shape}\\nRank:\\t{matrix.ndim}\\n')"
      ],
      "execution_count": null,
      "outputs": []
    },
    {
      "cell_type": "markdown",
      "metadata": {
        "id": "3k3RS5kLwklY"
      },
      "source": [
        "### 1.2.1 Matrices according to shape"
      ]
    },
    {
      "cell_type": "markdown",
      "metadata": {
        "id": "vtDLyJ2ywozX"
      },
      "source": [
        "#### <i>Row and Column Matrices</i>\n",
        "\n",
        "Row and column matrices are common in vector and matrix computations. They can also represent row and column spaces of a bigger vector space. Row and column matrices are represented by a single column or single row. So with that being, the shape of row matrices would be $1 \\times j$ and column matrices would be $i \\times 1$."
      ]
    },
    {
      "cell_type": "code",
      "metadata": {
        "colab": {
          "base_uri": "https://localhost:8080/"
        },
        "id": "Aqrp3e84wJ3A",
        "outputId": "7ce2cabf-632a-49dc-de59-e6860d2cc8c6"
      },
      "source": [
        "## Declaring a Row Matrix\n",
        "\n",
        "row_mat_1D = np.array([\n",
        "    1, 3, 2\n",
        "]) ## this is a 1-D Matrix with a shape of (3,), it's not really considered as a row matrix.\n",
        "row_mat_2D = np.array([\n",
        "    [1,2,3]\n",
        "]) ## this is a 2-D Matrix with a shape of (1,3)\n",
        "describe_mat(row_mat_1D)\n",
        "describe_mat(row_mat_2D)"
      ],
      "execution_count": null,
      "outputs": [
        {
          "output_type": "stream",
          "text": [
            "Matrix:\n",
            "[1 3 2]\n",
            "\n",
            "Shape:\t(3,)\n",
            "Rank:\t1\n",
            "\n",
            "Matrix:\n",
            "[[1 2 3]]\n",
            "\n",
            "Shape:\t(1, 3)\n",
            "Rank:\t2\n",
            "\n"
          ],
          "name": "stdout"
        }
      ]
    },
    {
      "cell_type": "code",
      "metadata": {
        "colab": {
          "base_uri": "https://localhost:8080/"
        },
        "id": "_xyF5l5hw3vw",
        "outputId": "f23f2340-3205-40a9-b7a9-5558c01434d8"
      },
      "source": [
        "## Declaring a Column Matrix\n",
        "\n",
        "col_mat = np.array([\n",
        "    [1],\n",
        "    [2],\n",
        "    [5]\n",
        "]) ## this is a 2-D Matrix with a shape of (3,1)\n",
        "describe_mat(col_mat)"
      ],
      "execution_count": null,
      "outputs": [
        {
          "output_type": "stream",
          "text": [
            "Matrix:\n",
            "[[1]\n",
            " [2]\n",
            " [5]]\n",
            "\n",
            "Shape:\t(3, 1)\n",
            "Rank:\t2\n",
            "\n"
          ],
          "name": "stdout"
        }
      ]
    },
    {
      "cell_type": "markdown",
      "metadata": {
        "id": "FyLFQiTBw7bJ"
      },
      "source": [
        "#### <i>Square Matrices</i>"
      ]
    },
    {
      "cell_type": "markdown",
      "metadata": {
        "id": "ekUreXAuw_y5"
      },
      "source": [
        "Square matrices are matrices that have the same row and column sizes. We could say a matrix is square if $i = j$. We can tweak our matrix descriptor function to determine square matrices."
      ]
    },
    {
      "cell_type": "code",
      "metadata": {
        "id": "cyD-LruVw5Ko"
      },
      "source": [
        "def describe_mat(matrix):\n",
        "    is_square = True if matrix.shape[0] == matrix.shape[1] else False \n",
        "    print(f'Matrix:\\n{matrix}\\n\\nShape:\\t{matrix.shape}\\nRank:\\t{matrix.ndim}\\nIs Square: {is_square}\\n')"
      ],
      "execution_count": null,
      "outputs": []
    },
    {
      "cell_type": "code",
      "metadata": {
        "colab": {
          "base_uri": "https://localhost:8080/"
        },
        "id": "Pn9PYR_oxERA",
        "outputId": "4a1bdb15-5b12-403f-a352-835431874fd1"
      },
      "source": [
        "square_mat = np.array([\n",
        "    [1,2,5],\n",
        "    [3,3,8],\n",
        "    [6,1,2]\n",
        "])\n",
        "\n",
        "non_square_mat = np.array([\n",
        "    [1,2,5],\n",
        "    [3,3,8]\n",
        "])\n",
        "describe_mat(square_mat)\n",
        "describe_mat(non_square_mat)"
      ],
      "execution_count": null,
      "outputs": [
        {
          "output_type": "stream",
          "text": [
            "Matrix:\n",
            "[[1 2 5]\n",
            " [3 3 8]\n",
            " [6 1 2]]\n",
            "\n",
            "Shape:\t(3, 3)\n",
            "Rank:\t2\n",
            "Is Square: True\n",
            "\n",
            "Matrix:\n",
            "[[1 2 5]\n",
            " [3 3 8]]\n",
            "\n",
            "Shape:\t(2, 3)\n",
            "Rank:\t2\n",
            "Is Square: False\n",
            "\n"
          ],
          "name": "stdout"
        }
      ]
    },
    {
      "cell_type": "markdown",
      "metadata": {
        "id": "_3V5jFo7xLfB"
      },
      "source": [
        "### 1.2.2 Matrices according to element values"
      ]
    },
    {
      "cell_type": "markdown",
      "metadata": {
        "id": "KfVkEfi9xUGY"
      },
      "source": [
        "#### <i>Empty Matrix</i>\n",
        "\n",
        "An empty Matrix is a matrix that has no elements. It is always a subspace of any vector or matrix."
      ]
    },
    {
      "cell_type": "code",
      "metadata": {
        "colab": {
          "base_uri": "https://localhost:8080/",
          "height": 266
        },
        "id": "FSXEid5wxTzf",
        "outputId": "257271c5-eb15-4115-cebc-49c322d3552b"
      },
      "source": [
        "empty_mat = np.array([])\n",
        "describe_mat(empty_mat)"
      ],
      "execution_count": null,
      "outputs": [
        {
          "output_type": "error",
          "ename": "IndexError",
          "evalue": "ignored",
          "traceback": [
            "\u001b[0;31m---------------------------------------------------------------------------\u001b[0m",
            "\u001b[0;31mIndexError\u001b[0m                                Traceback (most recent call last)",
            "\u001b[0;32m<ipython-input-21-3e1417bd592e>\u001b[0m in \u001b[0;36m<module>\u001b[0;34m()\u001b[0m\n\u001b[1;32m      1\u001b[0m \u001b[0mempty_mat\u001b[0m \u001b[0;34m=\u001b[0m \u001b[0mnp\u001b[0m\u001b[0;34m.\u001b[0m\u001b[0marray\u001b[0m\u001b[0;34m(\u001b[0m\u001b[0;34m[\u001b[0m\u001b[0;34m]\u001b[0m\u001b[0;34m)\u001b[0m\u001b[0;34m\u001b[0m\u001b[0;34m\u001b[0m\u001b[0m\n\u001b[0;32m----> 2\u001b[0;31m \u001b[0mdescribe_mat\u001b[0m\u001b[0;34m(\u001b[0m\u001b[0mempty_mat\u001b[0m\u001b[0;34m)\u001b[0m\u001b[0;34m\u001b[0m\u001b[0;34m\u001b[0m\u001b[0m\n\u001b[0m",
            "\u001b[0;32m<ipython-input-19-25bd6deead20>\u001b[0m in \u001b[0;36mdescribe_mat\u001b[0;34m(matrix)\u001b[0m\n\u001b[1;32m      1\u001b[0m \u001b[0;32mdef\u001b[0m \u001b[0mdescribe_mat\u001b[0m\u001b[0;34m(\u001b[0m\u001b[0mmatrix\u001b[0m\u001b[0;34m)\u001b[0m\u001b[0;34m:\u001b[0m\u001b[0;34m\u001b[0m\u001b[0;34m\u001b[0m\u001b[0m\n\u001b[0;32m----> 2\u001b[0;31m     \u001b[0mis_square\u001b[0m \u001b[0;34m=\u001b[0m \u001b[0;32mTrue\u001b[0m \u001b[0;32mif\u001b[0m \u001b[0mmatrix\u001b[0m\u001b[0;34m.\u001b[0m\u001b[0mshape\u001b[0m\u001b[0;34m[\u001b[0m\u001b[0;36m0\u001b[0m\u001b[0;34m]\u001b[0m \u001b[0;34m==\u001b[0m \u001b[0mmatrix\u001b[0m\u001b[0;34m.\u001b[0m\u001b[0mshape\u001b[0m\u001b[0;34m[\u001b[0m\u001b[0;36m1\u001b[0m\u001b[0;34m]\u001b[0m \u001b[0;32melse\u001b[0m \u001b[0;32mFalse\u001b[0m\u001b[0;34m\u001b[0m\u001b[0;34m\u001b[0m\u001b[0m\n\u001b[0m\u001b[1;32m      3\u001b[0m     \u001b[0mprint\u001b[0m\u001b[0;34m(\u001b[0m\u001b[0;34mf'Matrix:\\n{matrix}\\n\\nShape:\\t{matrix.shape}\\nRank:\\t{matrix.ndim}\\nIs Square: {is_square}\\n'\u001b[0m\u001b[0;34m)\u001b[0m\u001b[0;34m\u001b[0m\u001b[0;34m\u001b[0m\u001b[0m\n",
            "\u001b[0;31mIndexError\u001b[0m: tuple index out of range"
          ]
        }
      ]
    },
    {
      "cell_type": "code",
      "metadata": {
        "id": "MeYcy1ZpxSlY"
      },
      "source": [
        "def describe_mat(matrix):\n",
        "    if matrix.size > 0:\n",
        "        is_square = True if matrix.shape[0] == matrix.shape[1] else False \n",
        "        print(f'Matrix:\\n{matrix}\\n\\nShape:\\t{matrix.shape}\\nRank:\\t{matrix.ndim}\\nIs Square: {is_square}\\n')\n",
        "    else:\n",
        "        print('Matrix is Null')\n",
        "describe_mat(empty_mat)"
      ],
      "execution_count": null,
      "outputs": []
    },
    {
      "cell_type": "markdown",
      "metadata": {
        "id": "iPcaLbi-xsYx"
      },
      "source": [
        "#### <i>Zero/Null Matrix</i>\n",
        "A zero matrix can be any rectangular matrix but with all elements having a value of 0. In most texts, the zero matrix is denoted as $\\emptyset$.<br>\n",
        "Check out: [`numpy.zeros`](https://numpy.org/doc/stable/reference/generated/numpy.zeros.html)"
      ]
    },
    {
      "cell_type": "code",
      "metadata": {
        "colab": {
          "base_uri": "https://localhost:8080/"
        },
        "id": "tSRju2btxsNB",
        "outputId": "a1613edd-e44b-4391-8331-69ab86a4f3b7"
      },
      "source": [
        "zero_mat_row = np.zeros((1,2))\n",
        "zero_mat_sqr = np.zeros((2,2))\n",
        "zero_mat_rct = np.zeros((3,2))\n",
        "\n",
        "print(f'Zero Row Matrix: \\n{zero_mat_row}')\n",
        "print(f'Zero Square Matrix: \\n{zero_mat_sqr}')\n",
        "print(f'Zero Rectangular Matrix: \\n{zero_mat_rct}')"
      ],
      "execution_count": null,
      "outputs": [
        {
          "output_type": "stream",
          "text": [
            "Zero Row Matrix: \n",
            "[[0. 0.]]\n",
            "Zero Square Matrix: \n",
            "[[0. 0.]\n",
            " [0. 0.]]\n",
            "Zero Rectangular Matrix: \n",
            "[[0. 0.]\n",
            " [0. 0.]\n",
            " [0. 0.]]\n"
          ],
          "name": "stdout"
        }
      ]
    },
    {
      "cell_type": "markdown",
      "metadata": {
        "id": "ZS6raQ5Dzvd5"
      },
      "source": [
        "#### <i>Ones Matrix</i>\n",
        "A ones matrix, just like zero matrices, can be any rectangular matrix but all of its elements are 1s instead of 0s.\n",
        "\n",
        "Check out: [`numpy.ones`](https://numpy.org/doc/stable/reference/generated/numpy.ones.html)"
      ]
    },
    {
      "cell_type": "code",
      "metadata": {
        "colab": {
          "base_uri": "https://localhost:8080/"
        },
        "id": "jTXMt7ctzvNo",
        "outputId": "121a7936-8564-44fc-cfd1-91d9f9d2f3e5"
      },
      "source": [
        "ones_mat_row = np.ones((1,2))\n",
        "ones_mat_sqr = np.ones((2,2))\n",
        "ones_mat_rct = np.ones((3,2))\n",
        "\n",
        "print(f'Ones Row Matrix: \\n{ones_mat_row}')\n",
        "print(f'Ones Square Matrix: \\n{ones_mat_sqr}')\n",
        "print(f'Ones Rectangular Matrix: \\n{ones_mat_rct}')"
      ],
      "execution_count": null,
      "outputs": [
        {
          "output_type": "stream",
          "text": [
            "Ones Row Matrix: \n",
            "[[1. 1.]]\n",
            "Ones Square Matrix: \n",
            "[[1. 1.]\n",
            " [1. 1.]]\n",
            "Ones Rectangular Matrix: \n",
            "[[1. 1.]\n",
            " [1. 1.]\n",
            " [1. 1.]]\n"
          ],
          "name": "stdout"
        }
      ]
    },
    {
      "cell_type": "markdown",
      "metadata": {
        "id": "90RyfLl6z3fP"
      },
      "source": [
        "#### <i>Diagonal Matrix</i>\n",
        "\n",
        "Check out: [`numpy.diag`](https://numpy.org/doc/stable/reference/generated/numpy.diag.html)"
      ]
    },
    {
      "cell_type": "code",
      "metadata": {
        "colab": {
          "base_uri": "https://localhost:8080/"
        },
        "id": "8qGHdrMXxn9Y",
        "outputId": "c11f725f-5ab2-43cd-cae6-660cef2b17f2"
      },
      "source": [
        "np.array([\n",
        "    [2,0,0],\n",
        "    [0,3,0],\n",
        "    [0,0,5]\n",
        "])\n",
        "# a[1,1], a[2,2], a[3,3], ... a[n-1,n-1]"
      ],
      "execution_count": null,
      "outputs": [
        {
          "output_type": "execute_result",
          "data": {
            "text/plain": [
              "array([[2, 0, 0],\n",
              "       [0, 3, 0],\n",
              "       [0, 0, 5]])"
            ]
          },
          "metadata": {
            "tags": []
          },
          "execution_count": 24
        }
      ]
    },
    {
      "cell_type": "code",
      "metadata": {
        "colab": {
          "base_uri": "https://localhost:8080/"
        },
        "id": "Y673MUlXz9ZX",
        "outputId": "aea7655a-71fd-4fea-a6cc-66b44ff71cd0"
      },
      "source": [
        "d = np.diag([2,3,5,7])\n",
        "d"
      ],
      "execution_count": null,
      "outputs": [
        {
          "output_type": "execute_result",
          "data": {
            "text/plain": [
              "array([[2, 0, 0, 0],\n",
              "       [0, 3, 0, 0],\n",
              "       [0, 0, 5, 0],\n",
              "       [0, 0, 0, 7]])"
            ]
          },
          "metadata": {
            "tags": []
          },
          "execution_count": 25
        }
      ]
    },
    {
      "cell_type": "markdown",
      "metadata": {
        "id": "GGmPlDD70T1B"
      },
      "source": [
        "#### <i>Identity Matrix</i>\n",
        "An identity matrix is a special diagonal matrix in which the values at the diagonal are ones. In most texts, the identity matrix is denoted as $I$.<br>\n",
        "Check out: \n",
        "* [`numpy.eye`](https://numpy.org/doc/stable/reference/generated/numpy.eye.html)\n",
        "* [`numpy.identity`](https://numpy.org/doc/stable/reference/generated/numpy.identity.html)"
      ]
    },
    {
      "cell_type": "code",
      "metadata": {
        "colab": {
          "base_uri": "https://localhost:8080/"
        },
        "id": "LX1ZwEqlz_D_",
        "outputId": "fc9c65e3-0fd9-42c8-9952-f488ee2b68c4"
      },
      "source": [
        "np.eye(5)"
      ],
      "execution_count": null,
      "outputs": [
        {
          "output_type": "execute_result",
          "data": {
            "text/plain": [
              "array([[1., 0., 0., 0., 0.],\n",
              "       [0., 1., 0., 0., 0.],\n",
              "       [0., 0., 1., 0., 0.],\n",
              "       [0., 0., 0., 1., 0.],\n",
              "       [0., 0., 0., 0., 1.]])"
            ]
          },
          "metadata": {
            "tags": []
          },
          "execution_count": 26
        }
      ]
    },
    {
      "cell_type": "code",
      "metadata": {
        "colab": {
          "base_uri": "https://localhost:8080/"
        },
        "id": "214gXJIx2viz",
        "outputId": "9041ea84-c904-4bf0-b781-ab14f019aa18"
      },
      "source": [
        "np.identity(5)"
      ],
      "execution_count": null,
      "outputs": [
        {
          "output_type": "execute_result",
          "data": {
            "text/plain": [
              "array([[1., 0., 0., 0., 0.],\n",
              "       [0., 1., 0., 0., 0.],\n",
              "       [0., 0., 1., 0., 0.],\n",
              "       [0., 0., 0., 1., 0.],\n",
              "       [0., 0., 0., 0., 1.]])"
            ]
          },
          "metadata": {
            "tags": []
          },
          "execution_count": 27
        }
      ]
    },
    {
      "cell_type": "markdown",
      "metadata": {
        "id": "WbiDZUX_0bsq"
      },
      "source": [
        "#### <i>Scalar Matrix</i>\n",
        "Since scalars cannot be explicitly operated with matrices, one workaround is to convert scalars into matrices. This is done by a matrix with all diagonal values equal to the original scalar."
      ]
    },
    {
      "cell_type": "code",
      "metadata": {
        "colab": {
          "base_uri": "https://localhost:8080/"
        },
        "id": "7cg_3Jy605_N",
        "outputId": "f7b31e07-c28b-4a0a-f523-a52cd8337e91"
      },
      "source": [
        "### Method 1\n",
        "scalar = 5 ### Say we want to transform this scalar in to a scalar matrix.\n",
        "sm1 = np.zeros((3,3))\n",
        "print(sm1)\n",
        "np.fill_diagonal(sm1, scalar)\n",
        "print(sm1)"
      ],
      "execution_count": null,
      "outputs": [
        {
          "output_type": "stream",
          "text": [
            "[[0. 0. 0.]\n",
            " [0. 0. 0.]\n",
            " [0. 0. 0.]]\n",
            "[[5. 0. 0.]\n",
            " [0. 5. 0.]\n",
            " [0. 0. 5.]]\n"
          ],
          "name": "stdout"
        }
      ]
    },
    {
      "cell_type": "code",
      "metadata": {
        "colab": {
          "base_uri": "https://localhost:8080/"
        },
        "id": "GXZ3efnv3_MK",
        "outputId": "00f85069-0753-4f0c-9c6e-120f8634c838"
      },
      "source": [
        "### Method 2.1\n",
        "sm2 = np.diag([5,5,5])\n",
        "print(sm2)"
      ],
      "execution_count": null,
      "outputs": [
        {
          "output_type": "stream",
          "text": [
            "[[5 0 0]\n",
            " [0 5 0]\n",
            " [0 0 5]]\n"
          ],
          "name": "stdout"
        }
      ]
    },
    {
      "cell_type": "code",
      "metadata": {
        "colab": {
          "base_uri": "https://localhost:8080/"
        },
        "id": "cTyPh4o93XEv",
        "outputId": "96656169-f9eb-48b2-f611-40353a265017"
      },
      "source": [
        "### Method 3\n",
        "sm3 = np.identity(3)\n",
        "print(sm3)\n",
        "sm3 *= scalar\n",
        "## equivalent to sm3 = scalar * sm3\n",
        "print(sm3)"
      ],
      "execution_count": null,
      "outputs": [
        {
          "output_type": "stream",
          "text": [
            "[[1. 0. 0.]\n",
            " [0. 1. 0.]\n",
            " [0. 0. 1.]]\n",
            "[[5. 0. 0.]\n",
            " [0. 5. 0.]\n",
            " [0. 0. 5.]]\n"
          ],
          "name": "stdout"
        }
      ]
    },
    {
      "cell_type": "markdown",
      "metadata": {
        "id": "hZ5dZyv25VoX"
      },
      "source": [
        "#### <i>Upper Triangular Matrix</i>\n",
        "An upper triangular matrix is a matrix that has no values below the diagonal."
      ]
    },
    {
      "cell_type": "code",
      "metadata": {
        "colab": {
          "base_uri": "https://localhost:8080/"
        },
        "id": "cCp-hWXQ3li-",
        "outputId": "ea136f03-a8f5-4acb-c545-c2f54c9a9d94"
      },
      "source": [
        "np.array([\n",
        "    [1,2,3],\n",
        "    [0,3,1],\n",
        "    [0,0,5]\n",
        "])"
      ],
      "execution_count": null,
      "outputs": [
        {
          "output_type": "execute_result",
          "data": {
            "text/plain": [
              "array([[1, 2, 3],\n",
              "       [0, 3, 1],\n",
              "       [0, 0, 5]])"
            ]
          },
          "metadata": {
            "tags": []
          },
          "execution_count": 31
        }
      ]
    },
    {
      "cell_type": "markdown",
      "metadata": {
        "id": "uJNAjn-j5tAK"
      },
      "source": [
        "#### <i>Lower Triangular Matrix</i>\n",
        "\n",
        "\n",
        "A lower triangular matrix is a matrix that has no values above the diagonal."
      ]
    },
    {
      "cell_type": "code",
      "metadata": {
        "colab": {
          "base_uri": "https://localhost:8080/"
        },
        "id": "pVNlJauk5euR",
        "outputId": "444af90f-18d5-4228-a0a8-179ea7c0c391"
      },
      "source": [
        "np.array([\n",
        "    [1,0,0],\n",
        "    [5,3,0],\n",
        "    [7,8,5]\n",
        "])"
      ],
      "execution_count": null,
      "outputs": [
        {
          "output_type": "execute_result",
          "data": {
            "text/plain": [
              "array([[1, 0, 0],\n",
              "       [5, 3, 0],\n",
              "       [7, 8, 5]])"
            ]
          },
          "metadata": {
            "tags": []
          },
          "execution_count": 32
        }
      ]
    },
    {
      "cell_type": "markdown",
      "metadata": {
        "id": "CvSb0s5y55--"
      },
      "source": [
        "# Part 2: Matrix / Tensor Algebra\n",
        "Moving forward with matrices, vectors, and tensors. We'll try to see them in action using the commonly used operations for tensors. We will now dwell on the concepts and applications of Tensor Algebra"
      ]
    },
    {
      "cell_type": "markdown",
      "metadata": {
        "id": "mIO56SuS6ZFZ"
      },
      "source": [
        "## 2.1 Arithmetic / Element-wise Operations\n",
        "Check out: \n",
        "* [`numpy.add`](https://numpy.org/doc/stable/reference/generated/numpy.add.html)\n",
        "* [`numpy.sum`](https://numpy.org/doc/stable/reference/generated/numpy.sum.html)\n",
        "* [`numpy.subtract`](https://numpy.org/doc/stable/reference/generated/numpy.subtract.html)\n",
        "* [`numpy.multiply`](https://numpy.org/doc/stable/reference/generated/numpy.multiply.html)\n",
        "* [`numpy.square`](https://numpy.org/doc/stable/reference/generated/numpy.square.html)\n",
        "* [`numpy.divide`](https://numpy.org/doc/stable/reference/generated/numpy.divide.html)"
      ]
    },
    {
      "cell_type": "markdown",
      "metadata": {
        "id": "lUw3W994yMUD"
      },
      "source": [
        "### <i>Addition</i>\n"
      ]
    },
    {
      "cell_type": "code",
      "metadata": {
        "colab": {
          "base_uri": "https://localhost:8080/"
        },
        "id": "GThWpUETu6KI",
        "outputId": "0e3f1fa1-6989-4f02-91e0-ed8f37be3ea2"
      },
      "source": [
        "A = np.array([\n",
        "    [1,2],\n",
        "    [2,3],\n",
        "    [4,1]\n",
        "])\n",
        "B = np.array([\n",
        "    [2,2],\n",
        "    [0,0],\n",
        "    [1,1]\n",
        "])\n",
        "print(A.shape)\n",
        "print(B.shape)\n",
        "S=A+B\n",
        "print(S)\n",
        "print(S.shape)"
      ],
      "execution_count": null,
      "outputs": [
        {
          "output_type": "stream",
          "text": [
            "(3, 2)\n",
            "(3, 2)\n",
            "[[3 4]\n",
            " [2 3]\n",
            " [5 2]]\n",
            "(3, 2)\n"
          ],
          "name": "stdout"
        }
      ]
    },
    {
      "cell_type": "code",
      "metadata": {
        "colab": {
          "base_uri": "https://localhost:8080/"
        },
        "id": "dOLjUmeAz1kj",
        "outputId": "e8c39010-24ec-433a-d64c-f77a28bbe243"
      },
      "source": [
        "np.add(A,B)"
      ],
      "execution_count": null,
      "outputs": [
        {
          "output_type": "execute_result",
          "data": {
            "text/plain": [
              "array([[3, 4],\n",
              "       [2, 3],\n",
              "       [5, 2]])"
            ]
          },
          "metadata": {
            "tags": []
          },
          "execution_count": 41
        }
      ]
    },
    {
      "cell_type": "code",
      "metadata": {
        "colab": {
          "base_uri": "https://localhost:8080/"
        },
        "id": "znxUfcDs2ggF",
        "outputId": "2e7c5764-8098-42b7-9912-49f57218f35d"
      },
      "source": [
        "np.sum(A)"
      ],
      "execution_count": null,
      "outputs": [
        {
          "output_type": "execute_result",
          "data": {
            "text/plain": [
              "13"
            ]
          },
          "metadata": {
            "tags": []
          },
          "execution_count": 66
        }
      ]
    },
    {
      "cell_type": "code",
      "metadata": {
        "colab": {
          "base_uri": "https://localhost:8080/"
        },
        "id": "XHRlh01e2rxG",
        "outputId": "4a02625b-5713-4b1b-df54-58f046da50c3"
      },
      "source": [
        "np.add.reduce(A)"
      ],
      "execution_count": null,
      "outputs": [
        {
          "output_type": "execute_result",
          "data": {
            "text/plain": [
              "array([7, 6])"
            ]
          },
          "metadata": {
            "tags": []
          },
          "execution_count": 67
        }
      ]
    },
    {
      "cell_type": "markdown",
      "metadata": {
        "id": "j3K4QQYzyvaj"
      },
      "source": [
        "### <i>Subtraction</i>"
      ]
    },
    {
      "cell_type": "code",
      "metadata": {
        "colab": {
          "base_uri": "https://localhost:8080/"
        },
        "id": "8niVJUkvyytI",
        "outputId": "f8afd085-b427-412c-bad7-bb13389716ea"
      },
      "source": [
        "D = A-B\n",
        "print(A)\n",
        "print(B)\n",
        "print(D)"
      ],
      "execution_count": null,
      "outputs": [
        {
          "output_type": "stream",
          "text": [
            "[[1 2]\n",
            " [2 3]\n",
            " [4 1]]\n",
            "[[2 2]\n",
            " [0 0]\n",
            " [1 1]]\n",
            "[[-1  0]\n",
            " [ 2  3]\n",
            " [ 3  0]]\n"
          ],
          "name": "stdout"
        }
      ]
    },
    {
      "cell_type": "code",
      "metadata": {
        "colab": {
          "base_uri": "https://localhost:8080/"
        },
        "id": "Bwe2fc6Iz34-",
        "outputId": "9acc9914-aeff-48d5-c042-701a0f2003e1"
      },
      "source": [
        "np.subtract(A,B)"
      ],
      "execution_count": null,
      "outputs": [
        {
          "output_type": "execute_result",
          "data": {
            "text/plain": [
              "array([[-1,  0],\n",
              "       [ 2,  3],\n",
              "       [ 3,  0]])"
            ]
          },
          "metadata": {
            "tags": []
          },
          "execution_count": 42
        }
      ]
    },
    {
      "cell_type": "markdown",
      "metadata": {
        "id": "XIs4Ap4Sy7Pe"
      },
      "source": [
        "### <i>Multiplication</i>"
      ]
    },
    {
      "cell_type": "code",
      "metadata": {
        "colab": {
          "base_uri": "https://localhost:8080/"
        },
        "id": "ctJrg24fy6ZO",
        "outputId": "ec071e56-f6d8-4ac4-db99-8cabc130c490"
      },
      "source": [
        "C = np.array([\n",
        "              [1,2,3],\n",
        "              [3,2,1],\n",
        "              [2,3,1]\n",
        "])\n",
        "E = 5*np.eye(3)\n",
        "print(C)\n",
        "print(E)"
      ],
      "execution_count": null,
      "outputs": [
        {
          "output_type": "stream",
          "text": [
            "[[1 2 3]\n",
            " [3 2 1]\n",
            " [2 3 1]]\n",
            "[[5. 0. 0.]\n",
            " [0. 5. 0.]\n",
            " [0. 0. 5.]]\n"
          ],
          "name": "stdout"
        }
      ]
    },
    {
      "cell_type": "code",
      "metadata": {
        "colab": {
          "base_uri": "https://localhost:8080/"
        },
        "id": "TUCBpDpGzWob",
        "outputId": "878e1740-33f0-4307-b4a9-c381bb8db855"
      },
      "source": [
        "C*E\n",
        "#np.multiply(C,E)"
      ],
      "execution_count": null,
      "outputs": [
        {
          "output_type": "execute_result",
          "data": {
            "text/plain": [
              "array([[ 5.,  0.,  0.],\n",
              "       [ 0., 10.,  0.],\n",
              "       [ 0.,  0.,  5.]])"
            ]
          },
          "metadata": {
            "tags": []
          },
          "execution_count": 38
        }
      ]
    },
    {
      "cell_type": "code",
      "metadata": {
        "colab": {
          "base_uri": "https://localhost:8080/"
        },
        "id": "CfnKXndRzhz-",
        "outputId": "5734a3fa-b36b-4246-e442-1f14e76dc71f"
      },
      "source": [
        "E**2\n",
        "E*E"
      ],
      "execution_count": null,
      "outputs": [
        {
          "output_type": "execute_result",
          "data": {
            "text/plain": [
              "array([[25.,  0.,  0.],\n",
              "       [ 0., 25.,  0.],\n",
              "       [ 0.,  0., 25.]])"
            ]
          },
          "metadata": {
            "tags": []
          },
          "execution_count": 39
        }
      ]
    },
    {
      "cell_type": "code",
      "metadata": {
        "colab": {
          "base_uri": "https://localhost:8080/"
        },
        "id": "w8z1hRyZzlO3",
        "outputId": "8d4ed012-e766-4b2a-96b3-0db5d8bb64e4"
      },
      "source": [
        "np.square(E)"
      ],
      "execution_count": null,
      "outputs": [
        {
          "output_type": "execute_result",
          "data": {
            "text/plain": [
              "array([[25.,  0.,  0.],\n",
              "       [ 0., 25.,  0.],\n",
              "       [ 0.,  0., 25.]])"
            ]
          },
          "metadata": {
            "tags": []
          },
          "execution_count": 40
        }
      ]
    },
    {
      "cell_type": "markdown",
      "metadata": {
        "id": "-V1atKhP0Fgr"
      },
      "source": [
        "### <i>Division</i>\n",
        "Check out: \n",
        "* [`numpy.set_printoptions`](https://numpy.org/doc/stable/reference/generated/numpy.set_printoptions.html)\n",
        "* [`numpy.full`](https://numpy.org/doc/stable/reference/generated/numpy.full.html)"
      ]
    },
    {
      "cell_type": "code",
      "metadata": {
        "colab": {
          "base_uri": "https://localhost:8080/"
        },
        "id": "YsSoELg30MUr",
        "outputId": "27278029-92c0-45fa-ef98-9878825efb27"
      },
      "source": [
        "C/E"
      ],
      "execution_count": null,
      "outputs": [
        {
          "output_type": "stream",
          "text": [
            "/usr/local/lib/python3.6/dist-packages/ipykernel_launcher.py:1: RuntimeWarning: divide by zero encountered in true_divide\n",
            "  \"\"\"Entry point for launching an IPython kernel.\n"
          ],
          "name": "stderr"
        },
        {
          "output_type": "execute_result",
          "data": {
            "text/plain": [
              "array([[0.2, inf, inf],\n",
              "       [inf, 0.4, inf],\n",
              "       [inf, inf, 0.2]])"
            ]
          },
          "metadata": {
            "tags": []
          },
          "execution_count": 44
        }
      ]
    },
    {
      "cell_type": "code",
      "metadata": {
        "colab": {
          "base_uri": "https://localhost:8080/"
        },
        "id": "ATG5_GFb0QoK",
        "outputId": "3e0b8ad3-f1ec-4eb0-fb93-1e9c1923513b"
      },
      "source": [
        "alpha = np.full(C.shape,10**-6)\n",
        "alpha"
      ],
      "execution_count": null,
      "outputs": [
        {
          "output_type": "execute_result",
          "data": {
            "text/plain": [
              "array([[1.e-06, 1.e-06, 1.e-06],\n",
              "       [1.e-06, 1.e-06, 1.e-06],\n",
              "       [1.e-06, 1.e-06, 1.e-06]])"
            ]
          },
          "metadata": {
            "tags": []
          },
          "execution_count": 46
        }
      ]
    },
    {
      "cell_type": "code",
      "metadata": {
        "colab": {
          "base_uri": "https://localhost:8080/"
        },
        "id": "8NQVjPWE1BNn",
        "outputId": "4f6f7015-73f7-456a-d465-b2db0ce3699d"
      },
      "source": [
        "C/(E+alpha)"
      ],
      "execution_count": null,
      "outputs": [
        {
          "output_type": "execute_result",
          "data": {
            "text/plain": [
              "array([[1.9999996e-01, 2.0000000e+06, 3.0000000e+06],\n",
              "       [3.0000000e+06, 3.9999992e-01, 1.0000000e+06],\n",
              "       [2.0000000e+06, 3.0000000e+06, 1.9999996e-01]])"
            ]
          },
          "metadata": {
            "tags": []
          },
          "execution_count": 47
        }
      ]
    },
    {
      "cell_type": "code",
      "metadata": {
        "colab": {
          "base_uri": "https://localhost:8080/"
        },
        "id": "Vn-NjX8-1PU_",
        "outputId": "f429a236-ff2b-446b-eaa2-dbcaab944aec"
      },
      "source": [
        "np.set_printoptions(precision=2)\n",
        "C/(E+alpha)"
      ],
      "execution_count": null,
      "outputs": [
        {
          "output_type": "execute_result",
          "data": {
            "text/plain": [
              "array([[2.e-01, 2.e+06, 3.e+06],\n",
              "       [3.e+06, 4.e-01, 1.e+06],\n",
              "       [2.e+06, 3.e+06, 2.e-01]])"
            ]
          },
          "metadata": {
            "tags": []
          },
          "execution_count": 55
        }
      ]
    },
    {
      "cell_type": "code",
      "metadata": {
        "colab": {
          "base_uri": "https://localhost:8080/"
        },
        "id": "yoktEYl81nNP",
        "outputId": "0bd2594f-0a88-4210-e691-aee3dfc29905"
      },
      "source": [
        "C//(E+alpha)"
      ],
      "execution_count": null,
      "outputs": [
        {
          "output_type": "execute_result",
          "data": {
            "text/plain": [
              "array([[      0., 2000000., 3000000.],\n",
              "       [3000000.,       0., 1000000.],\n",
              "       [2000000., 3000000.,       0.]])"
            ]
          },
          "metadata": {
            "tags": []
          },
          "execution_count": 56
        }
      ]
    },
    {
      "cell_type": "markdown",
      "metadata": {
        "id": "Bu-KDsQQ0Ld7"
      },
      "source": [
        ""
      ]
    },
    {
      "cell_type": "markdown",
      "metadata": {
        "id": "IWhtXpcz6ZDh"
      },
      "source": [
        "## 2.2 Broadcasting"
      ]
    },
    {
      "cell_type": "code",
      "metadata": {
        "colab": {
          "base_uri": "https://localhost:8080/"
        },
        "id": "s0JYLY6I1xZE",
        "outputId": "33513fb0-967d-4643-be1d-329b65dda1f1"
      },
      "source": [
        "### Addition\n",
        "sum = 3+C\n",
        "print(C)\n",
        "sum"
      ],
      "execution_count": null,
      "outputs": [
        {
          "output_type": "stream",
          "text": [
            "[[1 2 3]\n",
            " [3 2 1]\n",
            " [2 3 1]]\n"
          ],
          "name": "stdout"
        },
        {
          "output_type": "execute_result",
          "data": {
            "text/plain": [
              "array([[4, 5, 6],\n",
              "       [6, 5, 4],\n",
              "       [5, 6, 4]])"
            ]
          },
          "metadata": {
            "tags": []
          },
          "execution_count": 58
        }
      ]
    },
    {
      "cell_type": "code",
      "metadata": {
        "colab": {
          "base_uri": "https://localhost:8080/"
        },
        "id": "bVNdNfvL16fW",
        "outputId": "46cf514e-ef26-4fb8-f0de-5ae44c6f228d"
      },
      "source": [
        "diff = C-1\n",
        "print(C)\n",
        "diff"
      ],
      "execution_count": null,
      "outputs": [
        {
          "output_type": "stream",
          "text": [
            "[[1 2 3]\n",
            " [3 2 1]\n",
            " [2 3 1]]\n"
          ],
          "name": "stdout"
        },
        {
          "output_type": "execute_result",
          "data": {
            "text/plain": [
              "array([[0, 1, 2],\n",
              "       [2, 1, 0],\n",
              "       [1, 2, 0]])"
            ]
          },
          "metadata": {
            "tags": []
          },
          "execution_count": 60
        }
      ]
    },
    {
      "cell_type": "code",
      "metadata": {
        "colab": {
          "base_uri": "https://localhost:8080/"
        },
        "id": "uzjAfoBj2DnL",
        "outputId": "f23a6675-72fe-4868-84dd-23ff07690bb8"
      },
      "source": [
        "prod = 2*C\n",
        "print(C)\n",
        "prod"
      ],
      "execution_count": null,
      "outputs": [
        {
          "output_type": "stream",
          "text": [
            "[[1 2 3]\n",
            " [3 2 1]\n",
            " [2 3 1]]\n"
          ],
          "name": "stdout"
        },
        {
          "output_type": "execute_result",
          "data": {
            "text/plain": [
              "array([[2, 4, 6],\n",
              "       [6, 4, 2],\n",
              "       [4, 6, 2]])"
            ]
          },
          "metadata": {
            "tags": []
          },
          "execution_count": 61
        }
      ]
    },
    {
      "cell_type": "code",
      "metadata": {
        "colab": {
          "base_uri": "https://localhost:8080/"
        },
        "id": "HyIM9N9v2SKT",
        "outputId": "fe7290a3-3371-4fb4-ac5e-bf1710635d31"
      },
      "source": [
        "quot = C/2\n",
        "print(C)\n",
        "quot"
      ],
      "execution_count": null,
      "outputs": [
        {
          "output_type": "stream",
          "text": [
            "[[1 2 3]\n",
            " [3 2 1]\n",
            " [2 3 1]]\n"
          ],
          "name": "stdout"
        },
        {
          "output_type": "execute_result",
          "data": {
            "text/plain": [
              "array([[0.5, 1. , 1.5],\n",
              "       [1.5, 1. , 0.5],\n",
              "       [1. , 1.5, 0.5]])"
            ]
          },
          "metadata": {
            "tags": []
          },
          "execution_count": 62
        }
      ]
    },
    {
      "cell_type": "code",
      "metadata": {
        "colab": {
          "base_uri": "https://localhost:8080/"
        },
        "id": "wyoeUglH2WyO",
        "outputId": "decf3ae2-0a45-447c-91b8-2f35de21c198"
      },
      "source": [
        "C//2"
      ],
      "execution_count": null,
      "outputs": [
        {
          "output_type": "execute_result",
          "data": {
            "text/plain": [
              "array([[0, 1, 1],\n",
              "       [1, 1, 0],\n",
              "       [1, 1, 0]])"
            ]
          },
          "metadata": {
            "tags": []
          },
          "execution_count": 63
        }
      ]
    },
    {
      "cell_type": "code",
      "metadata": {
        "colab": {
          "base_uri": "https://localhost:8080/"
        },
        "id": "XLHOEtjN26xW",
        "outputId": "17af9b66-1292-4d5e-bed0-0d6dba447dc1"
      },
      "source": [
        "1/C"
      ],
      "execution_count": null,
      "outputs": [
        {
          "output_type": "execute_result",
          "data": {
            "text/plain": [
              "array([[1.  , 0.5 , 0.33],\n",
              "       [0.33, 0.5 , 1.  ],\n",
              "       [0.5 , 0.33, 1.  ]])"
            ]
          },
          "metadata": {
            "tags": []
          },
          "execution_count": 68
        }
      ]
    },
    {
      "cell_type": "markdown",
      "metadata": {
        "id": "x2uCJyxD6Y-M"
      },
      "source": [
        "## 2.3 Transpose of a Matrix"
      ]
    },
    {
      "cell_type": "markdown",
      "metadata": {
        "id": "xWfBmzli5Bsz"
      },
      "source": [
        "One of the fundamental operations in matrix algebra is Transposition. The transpose of a matrix is done by flipping the values of its elements over its diagonals. With this, the rows and columns from the original matrix will be switched. So for a matrix $A$ its transpose is denoted as $A^T$. So for example:\n",
        "\n",
        "$$A = \\begin{bmatrix} 1 & 2 & 5\\\\5 & -1 &0 \\\\ 0 & -3 & 3\\end{bmatrix} $$\n",
        "$$ A^T = \\begin{bmatrix} 1 & 5 & 0\\\\2 & -1 &-3 \\\\ 5 & 0 & 3\\end{bmatrix}$$\n",
        "This can now be achieved programmatically by using `np.transpose()` or using the `T` method.<br>\n",
        "Check out:\n",
        "* [`np.transpose`](https://numpy.org/doc/stable/reference/generated/numpy.transpose.html)\n"
      ]
    },
    {
      "cell_type": "code",
      "metadata": {
        "colab": {
          "base_uri": "https://localhost:8080/"
        },
        "id": "FNnVgB2J5LNd",
        "outputId": "15678b08-bd71-42eb-d899-c68668878e27"
      },
      "source": [
        "A = np.array([\n",
        "    [1 ,2, 5],\n",
        "    [5, -1, 0],\n",
        "    [0, -3, 3]\n",
        "])\n",
        "np.transpose(A)"
      ],
      "execution_count": null,
      "outputs": [
        {
          "output_type": "execute_result",
          "data": {
            "text/plain": [
              "array([[ 1,  5,  0],\n",
              "       [ 2, -1, -3],\n",
              "       [ 5,  0,  3]])"
            ]
          },
          "metadata": {
            "tags": []
          },
          "execution_count": 79
        }
      ]
    },
    {
      "cell_type": "code",
      "metadata": {
        "colab": {
          "base_uri": "https://localhost:8080/"
        },
        "id": "laq7C1MA5MN1",
        "outputId": "c095c76e-3545-4855-8c2f-8a1d73ac7809"
      },
      "source": [
        "A.T"
      ],
      "execution_count": null,
      "outputs": [
        {
          "output_type": "execute_result",
          "data": {
            "text/plain": [
              "array([[ 1,  5,  0],\n",
              "       [ 2, -1, -3],\n",
              "       [ 5,  0,  3]])"
            ]
          },
          "metadata": {
            "tags": []
          },
          "execution_count": 80
        }
      ]
    },
    {
      "cell_type": "markdown",
      "metadata": {
        "id": "6982qBoT6ZA5"
      },
      "source": [
        "## 2.4 Vector Product"
      ]
    },
    {
      "cell_type": "markdown",
      "metadata": {
        "id": "xl16SQ0A7Pby"
      },
      "source": [
        "The inner product of a vector is the sum of the products of each element of the vectors. So given vectors $H$ and $G$ below:\n",
        "$$H=\\begin{bmatrix}1\\\\3\\\\6\\end{bmatrix}, G = \\begin{bmatrix}5\\\\2\\\\1\\end{bmatrix}$$\n",
        "We first take the element-wise product of the vectors:\n",
        "$$H*G = \\begin{bmatrix}5\\\\6\\\\6\\end{bmatrix}$$\n",
        "Then we take the sum of the products, making it the inner product of a vector:\n",
        "$$H\\cdot G = 17$$\n",
        "You can solve for the inner product using an explicit function, `np.inner()` or the `@` operator.<br>\n",
        "Check out:\n",
        "* [`np.inner`](https://numpy.org/doc/stable/reference/generated/numpy.inner.html)"
      ]
    },
    {
      "cell_type": "code",
      "metadata": {
        "id": "pHwmFaFE7PN6"
      },
      "source": [
        "H = np.array([1,3,6])\n",
        "G = np.array([5,2,1])"
      ],
      "execution_count": null,
      "outputs": []
    },
    {
      "cell_type": "code",
      "metadata": {
        "colab": {
          "base_uri": "https://localhost:8080/"
        },
        "id": "8woSJubW3rRj",
        "outputId": "d65a5008-015a-4c69-f1e2-40556983c5d7"
      },
      "source": [
        "np.inner(H,G)\n"
      ],
      "execution_count": null,
      "outputs": [
        {
          "output_type": "execute_result",
          "data": {
            "text/plain": [
              "17"
            ]
          },
          "metadata": {
            "tags": []
          },
          "execution_count": 89
        }
      ]
    },
    {
      "cell_type": "code",
      "metadata": {
        "colab": {
          "base_uri": "https://localhost:8080/"
        },
        "id": "7Dk-OV747WC3",
        "outputId": "8867c798-ae36-4c49-be33-550146fd770d"
      },
      "source": [
        "H @ G"
      ],
      "execution_count": null,
      "outputs": [
        {
          "output_type": "execute_result",
          "data": {
            "text/plain": [
              "17"
            ]
          },
          "metadata": {
            "tags": []
          },
          "execution_count": 90
        }
      ]
    },
    {
      "cell_type": "markdown",
      "metadata": {
        "id": "DlnfnwYc5g37"
      },
      "source": [
        "In matrix dot products, we are going to get the sum of products of the vectors by row-column pairs. So if we have two matrices $X$ and $Y$:\n",
        "\n",
        "$$X = \\begin{bmatrix}x_{(0,0)}&x_{(0,1)}\\\\ x_{(1,0)}&x_{(1,1)}\\end{bmatrix}, Y = \\begin{bmatrix}y_{(0,0)}&y_{(0,1)}\\\\ y_{(1,0)}&y_{(1,1)}\\end{bmatrix}$$\n",
        "\n",
        "The dot product will then be computed as:\n",
        "$$X \\cdot Y= \\begin{bmatrix} x_{(0,0)}*y_{(0,0)} + x_{(0,1)}*y_{(1,0)} & x_{(0,0)}*y_{(0,1)} + x_{(0,1)}*y_{(1,1)} \\\\  x_{(1,0)}*y_{(0,0)} + x_{(1,1)}*y_{(1,0)} & x_{(1,0)}*y_{(0,1)} + x_{(1,1)}*y_{(1,1)}\n",
        "\\end{bmatrix}$$\n",
        "\n",
        "So if we assign values to $X$ and $Y$:\n",
        "$$X = \\begin{bmatrix}1&2\\\\0&1\\end{bmatrix}, Y = \\begin{bmatrix}-1&0\\\\ 2&2\\end{bmatrix}$$\n",
        "Check out:\n",
        "* [`np.dot`](https://numpy.org/doc/stable/reference/generated/numpy.inner.html)"
      ]
    },
    {
      "cell_type": "code",
      "metadata": {
        "colab": {
          "base_uri": "https://localhost:8080/"
        },
        "id": "OlMfzu0-4Hi6",
        "outputId": "86e8f205-c227-41a9-8569-5758b7b5cbd5"
      },
      "source": [
        "X = np.array([\n",
        "              [1,2],\n",
        "              [0,1]\n",
        "])\n",
        "Y = np.array([\n",
        "              [-1,0],\n",
        "              [2,2]\n",
        "])\n",
        "print(X.shape)\n",
        "print(Y.shape)\n",
        "np.matmul(X,Y)"
      ],
      "execution_count": null,
      "outputs": [
        {
          "output_type": "stream",
          "text": [
            "(2, 2)\n",
            "(2, 2)\n"
          ],
          "name": "stdout"
        },
        {
          "output_type": "execute_result",
          "data": {
            "text/plain": [
              "array([[3, 4],\n",
              "       [2, 2]])"
            ]
          },
          "metadata": {
            "tags": []
          },
          "execution_count": 83
        }
      ]
    },
    {
      "cell_type": "code",
      "metadata": {
        "colab": {
          "base_uri": "https://localhost:8080/"
        },
        "id": "R2GA67S65ZAx",
        "outputId": "f7cb19e8-2d62-40a1-aa26-2666985e4cba"
      },
      "source": [
        "np.dot(X,Y)"
      ],
      "execution_count": null,
      "outputs": [
        {
          "output_type": "execute_result",
          "data": {
            "text/plain": [
              "array([[3, 4],\n",
              "       [2, 2]])"
            ]
          },
          "metadata": {
            "tags": []
          },
          "execution_count": 85
        }
      ]
    },
    {
      "cell_type": "code",
      "metadata": {
        "colab": {
          "base_uri": "https://localhost:8080/"
        },
        "id": "rxJotIx24loV",
        "outputId": "d06b7125-6412-4334-e772-381894d16865"
      },
      "source": [
        "X.dot(Y)"
      ],
      "execution_count": null,
      "outputs": [
        {
          "output_type": "execute_result",
          "data": {
            "text/plain": [
              "array([[3, 4],\n",
              "       [2, 2]])"
            ]
          },
          "metadata": {
            "tags": []
          },
          "execution_count": 86
        }
      ]
    },
    {
      "cell_type": "code",
      "metadata": {
        "colab": {
          "base_uri": "https://localhost:8080/"
        },
        "id": "eovfYfvG4n71",
        "outputId": "5ae5e5b9-1914-4ee1-e687-c48acbe480ab"
      },
      "source": [
        "X @ Y"
      ],
      "execution_count": null,
      "outputs": [
        {
          "output_type": "execute_result",
          "data": {
            "text/plain": [
              "array([[3, 4],\n",
              "       [2, 2]])"
            ]
          },
          "metadata": {
            "tags": []
          },
          "execution_count": 87
        }
      ]
    },
    {
      "cell_type": "markdown",
      "metadata": {
        "id": "hK8wF-3S_Zu6"
      },
      "source": [
        "In matrix dot products there are additional rules compared with vector dot products. Since vector dot products were just in one dimension, there are fewer restrictions. Since now we are dealing with Rank 2 vectors we need to consider some rules:\n",
        "\n",
        "**Rule 1: The inner dimensions of the two matrices in question must be the same. **\n",
        "\n",
        "So given a matrix $A$ with a shape of $(a,b)$ where $a$ and $b$ are any integers. If we want to do a dot product between $A$ and another matrix $B$, then matrix $B$ should have a shape of $(b,c)$ where $b$ and $c$ are any integers. So for given the following matrices:\n",
        "\n",
        "$$A = \\begin{bmatrix}2&4\\\\5&-2\\\\0&1\\end{bmatrix}, B = \\begin{bmatrix}1&1\\\\3&3\\\\-1&-2\\end{bmatrix}, C = \\begin{bmatrix}0&1&1\\\\1&1&2\\end{bmatrix}$$\n",
        "\n",
        "So in this case $A$ has a shape of $(3,2)$, $B$ has a shape of $(3,2)$ and $C$ has a shape of $(2,3)$. So the only matrix pairs that is eligible to perform dot product is matrices $A \\cdot C$, or $B \\cdot C$.  "
      ]
    },
    {
      "cell_type": "code",
      "metadata": {
        "colab": {
          "base_uri": "https://localhost:8080/"
        },
        "id": "2Mgs0E2I_XRl",
        "outputId": "abb23e06-50fa-412d-fc96-d33e3433ec4a"
      },
      "source": [
        "A = np.array([\n",
        "    [2, 4],\n",
        "    [5, -2],\n",
        "    [0, 1]\n",
        "])\n",
        "B = np.array([\n",
        "    [1,1],\n",
        "    [3,3],\n",
        "    [-1,-2]\n",
        "])\n",
        "C = np.array([\n",
        "    [0,1,1],\n",
        "    [1,1,2]\n",
        "])\n",
        "print(A.shape)\n",
        "print(B.shape)\n",
        "print(C.shape)"
      ],
      "execution_count": null,
      "outputs": [
        {
          "output_type": "stream",
          "text": [
            "(3, 2)\n",
            "(3, 2)\n",
            "(2, 3)\n"
          ],
          "name": "stdout"
        }
      ]
    },
    {
      "cell_type": "code",
      "metadata": {
        "colab": {
          "base_uri": "https://localhost:8080/"
        },
        "id": "Q-kdPA1h_gU0",
        "outputId": "aa282dd0-9f26-42ea-dd78-36f535ce7a52"
      },
      "source": [
        "A @ C"
      ],
      "execution_count": null,
      "outputs": [
        {
          "output_type": "execute_result",
          "data": {
            "text/plain": [
              "array([[ 4,  6, 10],\n",
              "       [-2,  3,  1],\n",
              "       [ 1,  1,  2]])"
            ]
          },
          "metadata": {
            "tags": []
          },
          "execution_count": 114
        }
      ]
    },
    {
      "cell_type": "code",
      "metadata": {
        "colab": {
          "base_uri": "https://localhost:8080/"
        },
        "id": "FwjyqD_b_inE",
        "outputId": "c10a9930-6e2a-45b2-9c17-b90ae6d0fd90"
      },
      "source": [
        "B @ C"
      ],
      "execution_count": null,
      "outputs": [
        {
          "output_type": "execute_result",
          "data": {
            "text/plain": [
              "array([[ 1,  2,  3],\n",
              "       [ 3,  6,  9],\n",
              "       [-2, -3, -5]])"
            ]
          },
          "metadata": {
            "tags": []
          },
          "execution_count": 115
        }
      ]
    },
    {
      "cell_type": "code",
      "metadata": {
        "colab": {
          "base_uri": "https://localhost:8080/",
          "height": 164
        },
        "id": "-T0AGh4E_jrz",
        "outputId": "8f91b1f1-3789-42bd-84f5-93348c337725"
      },
      "source": [
        "A @ B"
      ],
      "execution_count": null,
      "outputs": [
        {
          "output_type": "error",
          "ename": "ValueError",
          "evalue": "ignored",
          "traceback": [
            "\u001b[0;31m---------------------------------------------------------------------------\u001b[0m",
            "\u001b[0;31mValueError\u001b[0m                                Traceback (most recent call last)",
            "\u001b[0;32m<ipython-input-117-455d622f3b50>\u001b[0m in \u001b[0;36m<module>\u001b[0;34m()\u001b[0m\n\u001b[0;32m----> 1\u001b[0;31m \u001b[0mA\u001b[0m \u001b[0;34m@\u001b[0m \u001b[0mB\u001b[0m\u001b[0;34m\u001b[0m\u001b[0;34m\u001b[0m\u001b[0m\n\u001b[0m",
            "\u001b[0;31mValueError\u001b[0m: matmul: Input operand 1 has a mismatch in its core dimension 0, with gufunc signature (n?,k),(k,m?)->(n?,m?) (size 3 is different from 2)"
          ]
        }
      ]
    },
    {
      "cell_type": "markdown",
      "metadata": {
        "id": "yy3KpmAL_33-"
      },
      "source": [
        "Dot products are prevalent in matrix algebra, this implies that it has several unique properties and it should be considered when formulation solutions:\n",
        " 1. $A \\cdot B \\neq B \\cdot A$\n",
        " 2. $A \\cdot (B \\cdot C) = (A \\cdot B) \\cdot C$\n",
        " 3. $A\\cdot(B+C) = A\\cdot B + A\\cdot C$\n",
        " 4. $(B+C)\\cdot A = B\\cdot A + C\\cdot A$\n",
        " 5. $A\\cdot I = A$\n",
        " 6. $A\\cdot \\emptyset = \\emptyset$ "
      ]
    },
    {
      "cell_type": "markdown",
      "metadata": {
        "id": "eyVxf5kO7Eud"
      },
      "source": [
        "## 2.5 Determinants\n",
        "A determinant is a scalar value derived from a square matrix. The determinant is a fundamental and important value used in matrix algebra. \n",
        "\n",
        "The determinant of some matrix $A$ is denoted as $det(A)$ or $|A|$. So let's say $A$ is represented as:\n",
        "$$A = \\begin{bmatrix}a_{(0,0)}&a_{(0,1)}\\\\a_{(1,0)}&a_{(1,1)}\\end{bmatrix}$$\n",
        "We can compute for the determinant as:\n",
        "$$|A| = a_{(0,0)}*a_{(1,1)} - a_{(1,0)}*a_{(0,1)}$$\n",
        "So if we have $A$ as:\n",
        "$$A = \\begin{bmatrix}1&4\\\\0&3\\end{bmatrix}, |A| = 3$$\n",
        "\n",
        "But you might wonder how about square matrices beyond the shape $(2,2)$? We can approach this problem by using several methods such as co-factor expansion and the minors method. This can be taught in the lecture of the laboratory but we can achieve the strenuous computation of high-dimensional matrices programmatically using Python. We can achieve this by using [`np.linalg.det`](https://numpy.org/doc/stable/reference/generated/numpy.linalg.det.html)."
      ]
    },
    {
      "cell_type": "code",
      "metadata": {
        "colab": {
          "base_uri": "https://localhost:8080/"
        },
        "id": "vdZg_rmo9Ymr",
        "outputId": "d38d2a7e-51ec-4b1b-dbda-00895fad4a6d"
      },
      "source": [
        "A = np.array([\n",
        "    [1,4],\n",
        "    [0,3]\n",
        "])\n",
        "detA = np.linalg.det(A)\n",
        "print(detA)\n",
        "print(\"%.2f\" % detA)\n",
        "print(\"{:.2f}\".format(detA))"
      ],
      "execution_count": null,
      "outputs": [
        {
          "output_type": "stream",
          "text": [
            "3.0000000000000004\n",
            "3.00\n",
            "3.00\n"
          ],
          "name": "stdout"
        }
      ]
    },
    {
      "cell_type": "markdown",
      "metadata": {
        "id": "eKnQTP0y6Y7v"
      },
      "source": [
        "## 2.6 Matrix Inverse\n",
        "\n",
        "The inverse of a matrix is another fundamental operation in matrix algebra. Determining the inverse of a matrix let us determine if its solvability and its characteristic as a system of linear equation. Another use of the inverse matrix is solving the problem of divisibility between matrices. Although element-wise division exist but dividing the entire concept of matrices does not exists. Inverse matrices provide a related operation that could have the same concept of \"dividing\" matrices.\n",
        "\n",
        "Now to determine the inverse of a matrix we need to perform several steps. So let's say we have a matrix $M$:\n",
        "$$M = \\begin{bmatrix}1&7\\\\-3&5\\end{bmatrix}$$\n",
        "First, we need to get the determinant of $M$.\n",
        "$$|M| = (1)(5)-(-3)(7) = 26$$\n",
        "Next, we need to reform the matrix into the inverse form:\n",
        "$$M^{-1} = \\frac{1}{|M|} \\begin{bmatrix} m_{(1,1)} & -m_{(0,1)} \\\\ -m_{(1,0)} & m_{(0,0)}\\end{bmatrix}$$\n",
        "So that will be:\n",
        "$$M^{-1} = \\frac{1}{26} \\begin{bmatrix} 5 & -7 \\\\ 3 & 1\\end{bmatrix} = \\begin{bmatrix} \\frac{5}{26} & \\frac{-7}{26} \\\\ \\frac{3}{26} & \\frac{1}{26}\\end{bmatrix}$$\n",
        "For higher-dimension matrices, you might need to use co-factors, minors, adjugates, and other reduction techniques. To solve this programmatically we can use [`np.linalg.inv`](https://numpy.org/doc/stable/reference/generated/numpy.linalg.inv.html)."
      ]
    },
    {
      "cell_type": "code",
      "metadata": {
        "id": "B63R03js-QJy"
      },
      "source": [
        "M = np.array([\n",
        "    [1,7],\n",
        "    [-3, 5]\n",
        "])"
      ],
      "execution_count": null,
      "outputs": []
    },
    {
      "cell_type": "code",
      "metadata": {
        "colab": {
          "base_uri": "https://localhost:8080/"
        },
        "id": "bDURXuR3-X4a",
        "outputId": "bef7f047-fbc1-4d5b-b0d7-3256cf1ce1fe"
      },
      "source": [
        "M_inv = np.linalg.inv(M)\n",
        "M_inv"
      ],
      "execution_count": null,
      "outputs": [
        {
          "output_type": "execute_result",
          "data": {
            "text/plain": [
              "array([[ 0.19, -0.27],\n",
              "       [ 0.12,  0.04]])"
            ]
          },
          "metadata": {
            "tags": []
          },
          "execution_count": 110
        }
      ]
    },
    {
      "cell_type": "markdown",
      "metadata": {
        "id": "EbZvFYm--0aB"
      },
      "source": [
        "To validate the wether if the matric that you have solved is really the inverse, we follow this dot product property for a matrix $M$:\n",
        "$$M\\cdot M^{-1} = I$$"
      ]
    },
    {
      "cell_type": "code",
      "metadata": {
        "colab": {
          "base_uri": "https://localhost:8080/"
        },
        "id": "Z2vbSoe4-c_l",
        "outputId": "d5f7018c-bc04-4576-c666-ea16319c0120"
      },
      "source": [
        "M @ M_inv"
      ],
      "execution_count": null,
      "outputs": [
        {
          "output_type": "execute_result",
          "data": {
            "text/plain": [
              "array([[ 1.00e+00,  2.78e-17],\n",
              "       [-2.78e-17,  1.00e+00]])"
            ]
          },
          "metadata": {
            "tags": []
          },
          "execution_count": 111
        }
      ]
    },
    {
      "cell_type": "code",
      "metadata": {
        "colab": {
          "base_uri": "https://localhost:8080/"
        },
        "id": "hOgv0N-x_ABy",
        "outputId": "e643bdd6-96dd-4b38-95f0-786a21344636"
      },
      "source": [
        "np.array(M @ np.linalg.inv(M), dtype=int)"
      ],
      "execution_count": null,
      "outputs": [
        {
          "output_type": "execute_result",
          "data": {
            "text/plain": [
              "array([[1, 0],\n",
              "       [0, 1]])"
            ]
          },
          "metadata": {
            "tags": []
          },
          "execution_count": 112
        }
      ]
    },
    {
      "cell_type": "markdown",
      "metadata": {
        "id": "KcCQDR5x3Qkl"
      },
      "source": [
        "## Test Your Skills: Equation Translation\n",
        "One highly relevant skill for every aspiring data scientist or AI scientist is translating equations to code. This is mixing skills of computational programming and functional programming. Let's try to practice this using some of the fundamental functions in Machine Learning that we will see later on."
      ]
    },
    {
      "cell_type": "markdown",
      "metadata": {
        "id": "mJv5yRXk7iPT"
      },
      "source": [
        "## Practice 1: Modulus of a Vector\n",
        "The modulus of a vector or the magnitude of a vector can be determined using the Pythagorean theorem. Given the vector $A$ and its scalars denoted as $a_n$ where $n$ is the index of the scalar. So if we have:\n",
        "$$A = \\begin{bmatrix}1\\\\2\\end{bmatrix}$$\n",
        "We can compute the magnitude as:\n",
        "$$||A|| = \\sqrt{a_1^2 + a_2^2} = \\sqrt{1^2 + 2^2} = \\sqrt{5}$$\n",
        "So if we have a matrix with more parameters such as:\n",
        "$$B=\\begin{bmatrix}2\\\\5\\\\-1\\\\0\\end{bmatrix}$$\n",
        "We can generalize the Pythagorean theorem to compute for the magnitude as:\n",
        "$$||B|| = \\sqrt{b_1^2 + b_2^2 + b_3^2 + ... +b_n^2} = \\sqrt{\\sum_{n=1}^{N}b_n^2}$$\n",
        "And this equation is now called a Euclidian distance or the Euclidean Norm. "
      ]
    },
    {
      "cell_type": "code",
      "metadata": {
        "id": "rK5D0j6i7ygN"
      },
      "source": [
        "A = np.array([1,2])\n",
        "B = np.array([2,5,-1,0])"
      ],
      "execution_count": null,
      "outputs": []
    },
    {
      "cell_type": "code",
      "metadata": {
        "colab": {
          "base_uri": "https://localhost:8080/"
        },
        "id": "ywY2ytqG74E9",
        "outputId": "b0d8e77c-7167-4bac-ba4e-b6f17761f45f"
      },
      "source": [
        "def modulo(vector): return np.sqrt(np.sum(np.square(vector)))\n",
        "modulo(A)"
      ],
      "execution_count": null,
      "outputs": [
        {
          "output_type": "execute_result",
          "data": {
            "text/plain": [
              "7.937253933193772"
            ]
          },
          "metadata": {
            "tags": []
          },
          "execution_count": 95
        }
      ]
    },
    {
      "cell_type": "markdown",
      "metadata": {
        "id": "q5Z-hT5U8oaq"
      },
      "source": [
        "We can implement this explicitly by for loops or using `np.linalg.norm()` to get the Euclidian Norm."
      ]
    },
    {
      "cell_type": "code",
      "metadata": {
        "colab": {
          "base_uri": "https://localhost:8080/"
        },
        "id": "tGD4mGAP70CF",
        "outputId": "4c28f0f4-a681-4853-e854-1dff1c59a0d1"
      },
      "source": [
        "np.linalg.norm(A)"
      ],
      "execution_count": null,
      "outputs": [
        {
          "output_type": "execute_result",
          "data": {
            "text/plain": [
              "7.937253933193772"
            ]
          },
          "metadata": {
            "tags": []
          },
          "execution_count": 92
        }
      ]
    },
    {
      "cell_type": "code",
      "metadata": {
        "colab": {
          "base_uri": "https://localhost:8080/"
        },
        "id": "bFWaJoCf8T3l",
        "outputId": "b9d336f5-a9d0-43ee-c6fd-87ad77558b54"
      },
      "source": [
        "modulo(B)"
      ],
      "execution_count": null,
      "outputs": [
        {
          "output_type": "execute_result",
          "data": {
            "text/plain": [
              "4.795831523312719"
            ]
          },
          "metadata": {
            "tags": []
          },
          "execution_count": 96
        }
      ]
    },
    {
      "cell_type": "code",
      "metadata": {
        "colab": {
          "base_uri": "https://localhost:8080/"
        },
        "id": "xyKFY-l4719C",
        "outputId": "df8ce72c-cd67-42af-eb3d-8e4e7b20fe2b"
      },
      "source": [
        "np.linalg.norm(B)"
      ],
      "execution_count": null,
      "outputs": [
        {
          "output_type": "execute_result",
          "data": {
            "text/plain": [
              "4.795831523312719"
            ]
          },
          "metadata": {
            "tags": []
          },
          "execution_count": 93
        }
      ]
    },
    {
      "cell_type": "markdown",
      "metadata": {
        "id": "xxOBp7jFH2FP"
      },
      "source": [
        "## Practice 2: The Sigmoid\n",
        "The sigmoid function is one of the popular Activation Functions which we will discuss later on. The sigmoid is a bounded, differentiable, real function in which its range would be any value from 0 to 1. It is widely used in binary classifications.\n",
        "![image](https://upload.wikimedia.org/wikipedia/commons/thumb/8/88/Logistic-curve.svg/1200px-Logistic-curve.svg.png)\n",
        "If we were to check the equation characterizing this curve in textbooks or journals it would be:\n",
        "$$sig(x)=\\frac{1}{1+e^{-x}}$$\n",
        "or\n",
        "$$\\sigma(x)=\\frac{1}{1+e^{-x}}$$\n",
        "So let's try to translate this in NumPy. You might want to use [`numpy.exp`](https://numpy.org/doc/stable/reference/generated/numpy.exp.html) for this function. <br>\n",
        "If you want to read more about the sigmoid function click [here](https://medium.com/@himanshuxd/activation-functions-sigmoid-relu-leaky-relu-and-softmax-basics-for-neural-networks-and-deep-8d9c70eed91e)."
      ]
    },
    {
      "cell_type": "code",
      "metadata": {
        "id": "1OQGukMwH1e0"
      },
      "source": [
        "### Define a function\n",
        "### Set the parameters or inputs\n",
        "### Determine the Equation\n",
        "### Return the output "
      ],
      "execution_count": null,
      "outputs": []
    },
    {
      "cell_type": "markdown",
      "metadata": {
        "id": "NWeSC15yMcLw"
      },
      "source": [
        "#### <i>Advanced techniques: Lambda functions and List Comprehension</i>"
      ]
    },
    {
      "cell_type": "code",
      "metadata": {
        "id": "tiwtsOGAK2vS"
      },
      "source": [
        "## Using Lambda Functions\n",
        "sig = lambda x: 1/(1+np.exp(-x))"
      ],
      "execution_count": null,
      "outputs": []
    },
    {
      "cell_type": "code",
      "metadata": {
        "colab": {
          "base_uri": "https://localhost:8080/"
        },
        "id": "KED9vdV6LLid",
        "outputId": "82c04e3d-822e-474f-8015-9e89d7b76372"
      },
      "source": [
        "## Using List comprehension\n",
        "X = [-1,0,1]\n",
        "\n",
        "[sig(x) for x in X]"
      ],
      "execution_count": null,
      "outputs": [
        {
          "output_type": "execute_result",
          "data": {
            "text/plain": [
              "[0.2689414213699951, 0.5, 0.7310585786300049]"
            ]
          },
          "metadata": {
            "tags": []
          },
          "execution_count": 10
        }
      ]
    },
    {
      "cell_type": "markdown",
      "metadata": {
        "id": "V4U2ZOrV6Y1t"
      },
      "source": [
        "# Part 3: System of Linear Equations\n",
        "\n",
        "Solving linear equations is one of the fundamental skills of higher engineering mathematics. Aside from solving them, we must be skilled enough to spot them in the wild as well."
      ]
    },
    {
      "cell_type": "markdown",
      "metadata": {
        "id": "6LHogdFd6Ylu"
      },
      "source": [
        "## 3.2 Solving Linear Equations"
      ]
    },
    {
      "cell_type": "markdown",
      "metadata": {
        "id": "EnO-dcKEAyk6"
      },
      "source": [
        "Given an equation:\n",
        "$$\n",
        "B = \\left\\{\n",
        "    \\begin{array}\\\\\n",
        "        x+y+z=1\\\\ \n",
        "        3x -2y -z=4 \\\\\n",
        "        -x + 4y +2z=-3\n",
        "    \\end{array}\n",
        "\\right. $$\n",
        "\n",
        "We can represent it in matrix form considering the linear combination of the equations. We can also think of its dot product form:\n",
        "$$\n",
        "\\begin{bmatrix}1&1&1\\\\3&-2&-1\\\\-1&4&2\\end{bmatrix} \\cdot \\begin{bmatrix}x\\\\ y\\\\ z\\end{bmatrix} = \\begin{bmatrix}1\\\\4\\\\-3\\end{bmatrix}\n",
        "$$\n",
        "We can make a general form for this equation by putting our matrices and vectors as variables. So let's say that the matrix $\\begin{bmatrix}1&1&1\\\\3&-2&-1\\\\-1&4&2\\end{bmatrix}$ is $X$ and $\\begin{bmatrix}x\\\\ y\\\\ z\\end{bmatrix} = \\begin{bmatrix}x\\\\y\\\\z\\end{bmatrix}$ is the vector $r$ then the answer $\\begin{bmatrix}1\\\\4\\\\-3\\end{bmatrix}$ as $Y$. So we'll have:\n",
        "$$\n",
        "X r = Y\n",
        "$$\n",
        "Our goal is to solve for $r$ so we can solve it algebraically by multiplying both sides with the inverse of $X$, so we'll get:\n",
        "$$\n",
        "X^{-1}X r = X^{-1}Y\\\\\n",
        "Ir = X^{-1}Y\\\\\n",
        "r = X^{-1}Y\n",
        "$$\n",
        "We'll take $r = X^{-1}Y$ as the $\\textbf{vectorized}$ equation as our formula in solving for the vector $r$ or simply solving for $x,y,$and$z$. We can then code that as:"
      ]
    },
    {
      "cell_type": "code",
      "metadata": {
        "colab": {
          "base_uri": "https://localhost:8080/"
        },
        "id": "mMSqvED0Ay1h",
        "outputId": "be6f2cae-72b0-4a6e-9435-84c47ea3176f"
      },
      "source": [
        "X = np.array([\n",
        "    [1,1,1],\n",
        "    [3,-2,-1],\n",
        "    [-1,4,2]\n",
        "])\n",
        "Y = np.array([\n",
        "    [1],\n",
        "    [4],\n",
        "    [-3]\n",
        "])\n",
        "print(X)\n",
        "print(X.shape)\n",
        "print(Y)\n",
        "print(Y.shape)"
      ],
      "execution_count": null,
      "outputs": [
        {
          "output_type": "stream",
          "text": [
            "[[ 1  1  1]\n",
            " [ 3 -2 -1]\n",
            " [-1  4  2]]\n",
            "(3, 3)\n",
            "[[ 1]\n",
            " [ 4]\n",
            " [-3]]\n",
            "(3, 1)\n"
          ],
          "name": "stdout"
        }
      ]
    },
    {
      "cell_type": "code",
      "metadata": {
        "colab": {
          "base_uri": "https://localhost:8080/"
        },
        "id": "5OcXaDIQBCCc",
        "outputId": "7c1abd96-59df-42e2-f4ce-13a9c99b0b65"
      },
      "source": [
        "X_inv = np.linalg.inv(X)\n",
        "X_inv"
      ],
      "execution_count": null,
      "outputs": [
        {
          "output_type": "execute_result",
          "data": {
            "text/plain": [
              "array([[ 0. ,  0.4,  0.2],\n",
              "       [-1. ,  0.6,  0.8],\n",
              "       [ 2. , -1. , -1. ]])"
            ]
          },
          "metadata": {
            "tags": []
          },
          "execution_count": 119
        }
      ]
    },
    {
      "cell_type": "code",
      "metadata": {
        "colab": {
          "base_uri": "https://localhost:8080/"
        },
        "id": "jCtZhwlvBDTP",
        "outputId": "47c5f76b-5453-4d8f-c7ee-bc9f12b82c62"
      },
      "source": [
        "r = X_inv @ Y\n",
        "r"
      ],
      "execution_count": null,
      "outputs": [
        {
          "output_type": "execute_result",
          "data": {
            "text/plain": [
              "array([[ 1.],\n",
              "       [-1.],\n",
              "       [ 1.]])"
            ]
          },
          "metadata": {
            "tags": []
          },
          "execution_count": 121
        }
      ]
    },
    {
      "cell_type": "markdown",
      "metadata": {
        "id": "gvp2T12NBJuV"
      },
      "source": [
        "To valdiate if $r$ is correct then we can back-substitute to our equation $X r = Y$ to check if the dot product of $X$ and $r$ is $Y$. "
      ]
    },
    {
      "cell_type": "code",
      "metadata": {
        "colab": {
          "base_uri": "https://localhost:8080/"
        },
        "id": "CsmePSWpBKQ3",
        "outputId": "1df2c535-8f49-4802-944a-cb4650e22c71"
      },
      "source": [
        "X @ r"
      ],
      "execution_count": null,
      "outputs": [
        {
          "output_type": "execute_result",
          "data": {
            "text/plain": [
              "array([[ 1.],\n",
              "       [ 4.],\n",
              "       [-3.]])"
            ]
          },
          "metadata": {
            "tags": []
          },
          "execution_count": 122
        }
      ]
    },
    {
      "cell_type": "markdown",
      "metadata": {
        "id": "ubRa3LgEBaTS"
      },
      "source": [
        "An easier way to solve this is through NumPy's lineal algebra library through [`np.linalg.solve`](https://numpy.org/doc/stable/reference/generated/numpy.linalg.solve.html)"
      ]
    },
    {
      "cell_type": "code",
      "metadata": {
        "colab": {
          "base_uri": "https://localhost:8080/"
        },
        "id": "56HFVdAWBTqN",
        "outputId": "64952862-f4d9-42dc-df7a-f78561b59e8a"
      },
      "source": [
        "np.linalg.solve(X,Y)"
      ],
      "execution_count": null,
      "outputs": [
        {
          "output_type": "execute_result",
          "data": {
            "text/plain": [
              "array([[ 1.],\n",
              "       [-1.],\n",
              "       [ 1.]])"
            ]
          },
          "metadata": {
            "tags": []
          },
          "execution_count": 123
        }
      ]
    },
    {
      "cell_type": "markdown",
      "metadata": {
        "id": "S287me2L6YuW"
      },
      "source": [
        "### 3.2 Visualizing Vectors\n",
        "\n",
        "So far I know you have been experiencing mathematical exhaustion due to all these mathematical expressions. Allow me to show you a tad more interesting side of Linear Algebra. <br>\n",
        "Undoubtedly, one of the most interesting and frustrating parts of Data Analysts and Data Scientist is visualizing data. Although we will be visualizing more on matrices and tensors. So, bear with me here and I'll try to spark a bit of interest in you guys. "
      ]
    },
    {
      "cell_type": "markdown",
      "metadata": {
        "id": "BbgEROnQCpaL"
      },
      "source": [
        "### 3.2.1 MatPlotLib\n",
        "For our lesson, we'll be using MatPlotLib in Python. It really stands for MATLab Plotting Library, it was developed for the ease of transition of MATLab users to Python. So if you have been used to use MATLab then this would be easier, but if not let's try to enjoy this more. For more check out the [documentation](https://matplotlib.org/3.3.3/contents.html)."
      ]
    },
    {
      "cell_type": "code",
      "metadata": {
        "id": "pWhl20wdDLXy"
      },
      "source": [
        "### If you haven't installed it use:\n",
        "#!pip install matplotlib\n",
        "\n",
        "import matplotlib.pyplot as plt"
      ],
      "execution_count": null,
      "outputs": []
    },
    {
      "cell_type": "markdown",
      "metadata": {
        "id": "Lb71OQaDEjqi"
      },
      "source": [
        "#### <i>2D Cartersian Plots</i>\n",
        "Check out:\n",
        "* [`matplotlib.pyplot.xlim`](https://matplotlib.org/3.3.3/api/_as_gen/matplotlib.pyplot.xlim.html)\n",
        "* [`matplotlib.pyplot.ylim`](https://matplotlib.org/3.3.3/api/_as_gen/matplotlib.pyplot.ylim.html)\n",
        "* [`matplotlib.pyplot.quiver`](https://matplotlib.org/3.3.3/api/_as_gen/matplotlib.pyplot.quiver.html)\n",
        "* [`matplotlib.pyplot.grid`](https://matplotlib.org/3.3.3/api/_as_gen/matplotlib.pyplot.grid.html)\n",
        "* [`matplotlib.pyplot.show`](https://matplotlib.org/3.3.3/api/_as_gen/matplotlib.pyplot.show.html)"
      ]
    },
    {
      "cell_type": "code",
      "metadata": {
        "colab": {
          "base_uri": "https://localhost:8080/",
          "height": 286
        },
        "id": "zJntVULADTAJ",
        "outputId": "4eb55e84-7dfc-462a-d200-53d74cdb4f14"
      },
      "source": [
        "A = np.array([4, 3])\n",
        "B = np.array([2, -5])\n",
        "\n",
        "# plt.xlim(-15, 15)\n",
        "# plt.ylim(-15, 15)\n",
        "plt.quiver(0,0, A[0], A[1], angles='xy', scale_units='xy',scale=1, color='red') # Red --> A\n",
        "plt.quiver(A[0], A[1], B[0], B[1], angles='xy', scale_units='xy',scale=1, color='b') # Blue --> B\n",
        "R = A + B\n",
        "print(R)\n",
        "# plt.quiver(0,0, R[0], R[1], angles='xy', scale_units='xy',scale=1, color='g')\n",
        "# banana = 2*R #banana for scale\n",
        "# plt.quiver(0,0, banana[0], banana[1], angles='xy', scale_units='xy',scale=1, color='y')\n",
        "# plt.grid()\n",
        "# plt.show()\n"
      ],
      "execution_count": null,
      "outputs": [
        {
          "output_type": "stream",
          "text": [
            "[ 6 -2]\n"
          ],
          "name": "stdout"
        },
        {
          "output_type": "display_data",
          "data": {
            "image/png": "[encoded data removed]",
            "text/plain": [
              "<Figure size 432x288 with 1 Axes>"
            ]
          },
          "metadata": {
            "tags": [],
            "needs_background": "light"
          }
        }
      ]
    },
    {
      "cell_type": "code",
      "metadata": {
        "colab": {
          "base_uri": "https://localhost:8080/",
          "height": 265
        },
        "id": "qwTtX2hoEXni",
        "outputId": "e7ba8b48-4106-4a6a-9730-3401c1814676"
      },
      "source": [
        "A = np.array([\n",
        "    [1, 7],\n",
        "    [3, 10]\n",
        "])\n",
        "\n",
        "plt.xlim(0,15)\n",
        "plt.ylim(0,15)\n",
        "\n",
        "plt.quiver([0,0],[0,0], A[:,0], A[:,1], \n",
        "           angles='xy', scale_units='xy',scale=1, \n",
        "           color=['red','blue'])## use column spaces\n",
        "plt.show()"
      ],
      "execution_count": null,
      "outputs": [
        {
          "output_type": "display_data",
          "data": {
            "image/png": "[encoded data removed]",
            "text/plain": [
              "<Figure size 432x288 with 1 Axes>"
            ]
          },
          "metadata": {
            "tags": [],
            "needs_background": "light"
          }
        }
      ]
    },
    {
      "cell_type": "markdown",
      "metadata": {
        "id": "LFIV1y04Y7EE"
      },
      "source": [
        "Here are more options in plotting vectors.\n",
        "Check out:\n",
        "\n",
        "* [`numpy.arange`](https://numpy.org/doc/stable/reference/generated/numpy.arange.html)\n",
        "* [`matplotlib.pyplot.plot`](https://matplotlib.org/3.3.3/api/_as_gen/matplotlib.pyplot.plot.html)\n",
        "* [`matplotlib.pyplot.axhline`](https://matplotlib.org/3.3.3/api/_as_gen/matplotlib.pyplot.axhline.html)\n",
        "* [`matplotlib.pyplot.axvline`](https://matplotlib.org/3.3.3/api/_as_gen/matplotlib.pyplot.axvline.html)"
      ]
    },
    {
      "cell_type": "code",
      "metadata": {
        "colab": {
          "base_uri": "https://localhost:8080/",
          "height": 265
        },
        "id": "akEWM6DZEb5M",
        "outputId": "c82eb8e2-e4c6-4d00-f419-66eae99e5d2a"
      },
      "source": [
        "c = np.arange(0,100)\n",
        "plt.xlim(0,15)\n",
        "plt.ylim(0,15)\n",
        "\n",
        "plt.plot(c*A[0,0], c*A[0,1], color='red') \n",
        "plt.plot(c*A[1,0], c*A[1,1], color='blue') \n",
        "\n",
        "\n",
        "plt.show()"
      ],
      "execution_count": null,
      "outputs": [
        {
          "output_type": "display_data",
          "data": {
            "image/png": "[encoded data removed]",
            "text/plain": [
              "<Figure size 432x288 with 1 Axes>"
            ]
          },
          "metadata": {
            "tags": [],
            "needs_background": "light"
          }
        }
      ]
    },
    {
      "cell_type": "code",
      "metadata": {
        "colab": {
          "base_uri": "https://localhost:8080/",
          "height": 269
        },
        "id": "mNamrOZjD2Lb",
        "outputId": "c9f526d2-ff35-4a73-e408-22af904dbbc4"
      },
      "source": [
        "## Span of Vectors\n",
        "vectX =  np.array([2,5])\n",
        "vectY =  np.array([7,9])\n",
        "c = np.arange(-10,10,0.25)\n",
        "\n",
        "plt.scatter(c*vectX[0],c*vectX[1])\n",
        "\n",
        "\n",
        "plt.xlim(-10,10)\n",
        "plt.ylim(-10,10)\n",
        "plt.axhline(y=0, color='k')\n",
        "plt.axvline(x=0, color='k')\n",
        "plt.grid()\n",
        "plt.show()"
      ],
      "execution_count": null,
      "outputs": [
        {
          "output_type": "display_data",
          "data": {
            "image/png": "[encoded data removed]",
            "text/plain": [
              "<Figure size 432x288 with 1 Axes>"
            ]
          },
          "metadata": {
            "tags": [],
            "needs_background": "light"
          }
        }
      ]
    },
    {
      "cell_type": "markdown",
      "metadata": {
        "id": "oA4rlJrh-KEt"
      },
      "source": [
        "# Part 4: Linear Transformation\n",
        "\n",
        "You can recall that a vector can be scaled or translated through different vector operations. We'll now dwell more on the translation and transformation of multi-dimensional vectors (i.e. matrices). This is possible using matrix operations. Take note that not all operations to matrices or $\\mathbb{R}^2$ vectors are linear. Linear transformations leave the origin fixed and preserve parallelism. Scaling, shearing, rotation, and reflexion of a plane are examples of linear transformations.  Let's try to revisit them in this notebook. \n",
        "\n",
        "References: <br/>\n",
        "<a href=\"https://mmas.github.io/linear-transformations-numpy\"> Linear transformations in Numpy </a>"
      ]
    },
    {
      "cell_type": "markdown",
      "metadata": {
        "id": "RViIYoJf-KBH"
      },
      "source": [
        "## 4.1 Geometric Transforms\n",
        "\n",
        "There are two prime requirements for linear geometric translations:\n",
        "1. Vectors remain linear upon applying the linear function\n",
        "2. The origin of the vector does not change.\n",
        "\n",
        "To make representation easier, I have provided a user-defined function for plotting the quivers of the vectors. The function takes in the matrix we wish to transform and a transformation matrix. If no transformation matrix is provided, the default is an identity matrix.\n",
        "\n",
        "Check out:\n",
        "* [`matplotlib.pyplot.figure`](https://matplotlib.org/3.3.3/api/_as_gen/matplotlib.pyplot.figure.html)"
      ]
    },
    {
      "cell_type": "code",
      "metadata": {
        "id": "erXZ_SFOEN7i"
      },
      "source": [
        "def plot_quiv(x,t_mat=np.eye(2)):\n",
        "    x_prime = x @ t_mat\n",
        "    size= (2,2)\n",
        "    plt.figure(figsize=(4,4))\n",
        "\n",
        "    plt.xlim(-size[0],size[0])\n",
        "    plt.ylim(-size[1],size[1])\n",
        "    plt.xticks(np.arange((-size[0]), size[0]+1, 1.0))\n",
        "    plt.yticks(np.arange((-size[1]), size[1]+1, 1.0))\n",
        "\n",
        "\n",
        "    plt.quiver([0,0],[0,0], x_prime[0,:], x_prime[1,:], \n",
        "               angles='xy', scale_units='xy',scale=1, \n",
        "               color=['red','blue'])## use column spaces\n",
        "    plt.grid()\n",
        "    plt.show()"
      ],
      "execution_count": null,
      "outputs": []
    },
    {
      "cell_type": "code",
      "metadata": {
        "colab": {
          "base_uri": "https://localhost:8080/",
          "height": 269
        },
        "id": "eKOScXIgE9j_",
        "outputId": "cb401ecb-1758-43e8-f388-44a2e0ab5ad2"
      },
      "source": [
        "A = np.array([\n",
        "    [1, 0],\n",
        "    [0, 1]\n",
        "])\n",
        "\n",
        "plot_quiv(A)"
      ],
      "execution_count": null,
      "outputs": [
        {
          "output_type": "display_data",
          "data": {
            "image/png": "[encoded data removed]",
            "text/plain": [
              "<Figure size 288x288 with 1 Axes>"
            ]
          },
          "metadata": {
            "tags": [],
            "needs_background": "light"
          }
        }
      ]
    },
    {
      "cell_type": "markdown",
      "metadata": {
        "id": "bC0ULJmQFClS"
      },
      "source": [
        "#### <i>Repositioning/Translation</i>\n"
      ]
    },
    {
      "cell_type": "code",
      "metadata": {
        "colab": {
          "base_uri": "https://localhost:8080/",
          "height": 521
        },
        "id": "YS0ii142FJ4p",
        "outputId": "e5191ba6-85a2-493a-bd36-dce67c8b52bc"
      },
      "source": [
        "t_mat = np.array([\n",
        "    [-1,0],\n",
        "    [0,-1]\n",
        "])\n",
        "plot_quiv(A)\n",
        "plot_quiv(A, t_mat)"
      ],
      "execution_count": null,
      "outputs": [
        {
          "output_type": "display_data",
          "data": {
            "image/png": "[encoded data removed]",
            "text/plain": [
              "<Figure size 288x288 with 1 Axes>"
            ]
          },
          "metadata": {
            "tags": [],
            "needs_background": "light"
          }
        },
        {
          "output_type": "display_data",
          "data": {
            "image/png": "[encoded data removed]",
            "text/plain": [
              "<Figure size 288x288 with 1 Axes>"
            ]
          },
          "metadata": {
            "tags": [],
            "needs_background": "light"
          }
        }
      ]
    },
    {
      "cell_type": "markdown",
      "metadata": {
        "id": "u-Ppui4ZFPXp"
      },
      "source": [
        "#### <i>Shears</i>\n"
      ]
    },
    {
      "cell_type": "code",
      "metadata": {
        "colab": {
          "base_uri": "https://localhost:8080/",
          "height": 807
        },
        "id": "Cd6h5xl-FTEB",
        "outputId": "9ec20afc-148b-4efd-8118-e900f396e1a4"
      },
      "source": [
        "A = np.eye(2)\n",
        "## Transformation Matrices\n",
        "shear1 = np.array([\n",
        "    [1,0],\n",
        "    [1,1]\n",
        "])\n",
        "shear2 = np.array([\n",
        "    [1,0],\n",
        "    [1,-1]\n",
        "])\n",
        "plot_quiv(A)\n",
        "print(A)\n",
        "plot_quiv(A, shear1)\n",
        "plot_quiv(A, shear2)"
      ],
      "execution_count": null,
      "outputs": [
        {
          "output_type": "display_data",
          "data": {
            "image/png": "[encoded data removed]",
            "text/plain": [
              "<Figure size 288x288 with 1 Axes>"
            ]
          },
          "metadata": {
            "tags": [],
            "needs_background": "light"
          }
        },
        {
          "output_type": "stream",
          "text": [
            "[[1. 0.]\n",
            " [0. 1.]]\n"
          ],
          "name": "stdout"
        },
        {
          "output_type": "display_data",
          "data": {
            "image/png": "[encoded data removed]",
            "text/plain": [
              "<Figure size 288x288 with 1 Axes>"
            ]
          },
          "metadata": {
            "tags": [],
            "needs_background": "light"
          }
        },
        {
          "output_type": "display_data",
          "data": {
            "image/png": "[encoded data removed]",
            "text/plain": [
              "<Figure size 288x288 with 1 Axes>"
            ]
          },
          "metadata": {
            "tags": [],
            "needs_background": "light"
          }
        }
      ]
    },
    {
      "cell_type": "code",
      "metadata": {
        "colab": {
          "base_uri": "https://localhost:8080/",
          "height": 269
        },
        "id": "Zuu_dMX5FZUS",
        "outputId": "f43a0d82-ff26-450a-8747-77ebd822124b"
      },
      "source": [
        "shear = np.array([\n",
        "    [-1,1],\n",
        "    [1,1]\n",
        "])\n",
        "plot_quiv(A, shear)"
      ],
      "execution_count": null,
      "outputs": [
        {
          "output_type": "display_data",
          "data": {
            "image/png": "[encoded data removed]",
            "text/plain": [
              "<Figure size 288x288 with 1 Axes>"
            ]
          },
          "metadata": {
            "tags": [],
            "needs_background": "light"
          }
        }
      ]
    },
    {
      "cell_type": "markdown",
      "metadata": {
        "id": "bBBZ9sSeFbki"
      },
      "source": [
        "#### <i>Scaling</i>"
      ]
    },
    {
      "cell_type": "code",
      "metadata": {
        "colab": {
          "base_uri": "https://localhost:8080/",
          "height": 555
        },
        "id": "SkMxN-_dFjbx",
        "outputId": "48b32745-d810-4eb1-8927-8c86d16ff7ac"
      },
      "source": [
        "## Scaling matrix\n",
        "scale = np.array([\n",
        "    [0.5,0],\n",
        "    [0,0.5]\n",
        "])\n",
        "# scale = 0.5*np.eye(2)\n",
        "print(scale2)\n",
        "print(scale)\n",
        "plot_quiv(A)\n",
        "plot_quiv(A, scale)"
      ],
      "execution_count": null,
      "outputs": [
        {
          "output_type": "stream",
          "text": [
            "[[0.5 0. ]\n",
            " [0.  0.5]]\n"
          ],
          "name": "stdout"
        },
        {
          "output_type": "display_data",
          "data": {
            "image/png": "[encoded data removed]",
            "text/plain": [
              "<Figure size 288x288 with 1 Axes>"
            ]
          },
          "metadata": {
            "tags": [],
            "needs_background": "light"
          }
        },
        {
          "output_type": "display_data",
          "data": {
            "image/png": "[encoded data removed]",
            "text/plain": [
              "<Figure size 288x288 with 1 Axes>"
            ]
          },
          "metadata": {
            "tags": [],
            "needs_background": "light"
          }
        }
      ]
    },
    {
      "cell_type": "markdown",
      "metadata": {
        "id": "DjkYfG0RFv6K"
      },
      "source": [
        "#### <i>Compound Transformation</i>"
      ]
    },
    {
      "cell_type": "code",
      "metadata": {
        "colab": {
          "base_uri": "https://localhost:8080/",
          "height": 269
        },
        "id": "tsdiju92FvrN",
        "outputId": "ff1f71e1-5d71-4975-e702-66b035c00161"
      },
      "source": [
        "plot_quiv(A)"
      ],
      "execution_count": null,
      "outputs": [
        {
          "output_type": "display_data",
          "data": {
            "image/png": "[encoded data removed]",
            "text/plain": [
              "<Figure size 288x288 with 1 Axes>"
            ]
          },
          "metadata": {
            "tags": [],
            "needs_background": "light"
          }
        }
      ]
    },
    {
      "cell_type": "code",
      "metadata": {
        "colab": {
          "base_uri": "https://localhost:8080/",
          "height": 269
        },
        "id": "Ll_-rrZpF5oV",
        "outputId": "f89fc574-ad74-45ff-a979-a76911461a34"
      },
      "source": [
        "A_shear = A @ shear\n",
        "plot_quiv(A_shear)"
      ],
      "execution_count": null,
      "outputs": [
        {
          "output_type": "display_data",
          "data": {
            "image/png": "[encoded data removed]",
            "text/plain": [
              "<Figure size 288x288 with 1 Axes>"
            ]
          },
          "metadata": {
            "tags": [],
            "needs_background": "light"
          }
        }
      ]
    },
    {
      "cell_type": "code",
      "metadata": {
        "colab": {
          "base_uri": "https://localhost:8080/",
          "height": 269
        },
        "id": "64VuuMrKGJKd",
        "outputId": "e8d6d9b3-d0e7-4a77-9156-f41ee1fda37b"
      },
      "source": [
        "A_shear_scale = A @ scale @ shear\n",
        "plot_quiv(A_shear_scale)"
      ],
      "execution_count": null,
      "outputs": [
        {
          "output_type": "display_data",
          "data": {
            "image/png": "[encoded data removed]",
            "text/plain": [
              "<Figure size 288x288 with 1 Axes>"
            ]
          },
          "metadata": {
            "tags": [],
            "needs_background": "light"
          }
        }
      ]
    },
    {
      "cell_type": "markdown",
      "metadata": {
        "id": "joT57Fzm-J9_"
      },
      "source": [
        "## 4.2 Rotational Transforms"
      ]
    },
    {
      "cell_type": "markdown",
      "metadata": {
        "id": "flwlgfDDG-Sy"
      },
      "source": [
        "#### <i>2D Cartesian Transforms</i>\n",
        "Check out:\n",
        "* [numpy.deg2rad](https://numpy.org/doc/stable/reference/generated/numpy.deg2rad.html)\n",
        "* [numpy.sin](https://numpy.org/doc/stable/reference/generated/numpy.sin.html)\n",
        "* [numpy.cos](https://numpy.org/doc/stable/reference/generated/numpy.cos.html)"
      ]
    },
    {
      "cell_type": "code",
      "metadata": {
        "id": "RIizqZrp0Jtm"
      },
      "source": [
        "def rot_matrix(theta):\n",
        "    theta = np.deg2rad(theta)\n",
        "    rot_mat = np.array([\n",
        "        [np.cos(theta), -np.sin(theta)],\n",
        "        [np.sin(theta), np.cos(theta)]\n",
        "    ])\n",
        "    return rot_mat"
      ],
      "execution_count": null,
      "outputs": []
    },
    {
      "cell_type": "code",
      "metadata": {
        "colab": {
          "base_uri": "https://localhost:8080/",
          "height": 773
        },
        "id": "sUj5CJwe1wK_",
        "outputId": "00033b2c-4705-44b2-be37-39e76e96d768"
      },
      "source": [
        "rotate = rot_matrix(45)\n",
        "plot_quiv(A)\n",
        "scale = 2*np.eye(2)\n",
        "plot_quiv(A@rotate)\n",
        "plot_quiv(A@rotate@scale)"
      ],
      "execution_count": null,
      "outputs": [
        {
          "output_type": "display_data",
          "data": {
            "image/png": "[encoded data removed]",
            "text/plain": [
              "<Figure size 288x288 with 1 Axes>"
            ]
          },
          "metadata": {
            "tags": [],
            "needs_background": "light"
          }
        },
        {
          "output_type": "display_data",
          "data": {
            "image/png": "[encoded data removed]",
            "text/plain": [
              "<Figure size 288x288 with 1 Axes>"
            ]
          },
          "metadata": {
            "tags": [],
            "needs_background": "light"
          }
        },
        {
          "output_type": "display_data",
          "data": {
            "image/png": "[encoded data removed]",
            "text/plain": [
              "<Figure size 288x288 with 1 Axes>"
            ]
          },
          "metadata": {
            "tags": [],
            "needs_background": "light"
          }
        }
      ]
    },
    {
      "cell_type": "markdown",
      "metadata": {
        "id": "ig6qr-r3HE0y"
      },
      "source": [
        "#### <i>3D Cartesian Transforms</i>\n",
        "Check out:\n",
        "* [Plotting in 3D in MatPlotLib](https://matplotlib.org/mpl_toolkits/mplot3d/tutorial.html)"
      ]
    },
    {
      "cell_type": "code",
      "metadata": {
        "id": "VPz306hqGtPW"
      },
      "source": [
        "def plot_3d_quiv(x, azimuth=0, elevation=0):\n",
        "    fig = plt.figure(figsize=(8,8))\n",
        "    ax1 = fig.gca(projection='3d')\n",
        "    ax1.set_xlim([-2, 2])\n",
        "    ax1.set_ylim([-2, 2])\n",
        "    ax1.set_zlim([-2, 2])\n",
        "    ax1.set_xlabel(\"X (roll)\")\n",
        "    ax1.set_ylabel(\"Y (pitch)\")\n",
        "    ax1.set_zlabel(\"Z (yaw)\")\n",
        "\n",
        "    origin = (0,0,0)\n",
        "    ax1.quiver(origin, origin, origin, x[0,:], x[1,:], x[2,:], \n",
        "               arrow_length_ratio=0.1, colors=['red','blue','green'])\n",
        "    plt.grid()\n",
        "    ax1.view_init(azim=azimuth, elev=elevation)        \n",
        "    plt.show()"
      ],
      "execution_count": null,
      "outputs": []
    },
    {
      "cell_type": "code",
      "metadata": {
        "colab": {
          "base_uri": "https://localhost:8080/",
          "height": 915
        },
        "id": "scF1xetQHLo6",
        "outputId": "1e962ce9-cf7c-43c6-a7e4-76c75b83997f"
      },
      "source": [
        "X = np.eye(3)\n",
        "scale = 2*np.eye(3)\n",
        "plot_3d_quiv(X, azimuth=30, elevation=50)\n",
        "plot_3d_quiv(X@scale, azimuth=30, elevation=50)\n"
      ],
      "execution_count": null,
      "outputs": [
        {
          "output_type": "display_data",
          "data": {
            "image/png": "[encoded data removed]",
            "text/plain": [
              "<Figure size 576x576 with 1 Axes>"
            ]
          },
          "metadata": {
            "tags": [],
            "needs_background": "light"
          }
        },
        {
          "output_type": "display_data",
          "data": {
            "image/png": "[encoded data removed]",
            "text/plain": [
              "<Figure size 576x576 with 1 Axes>"
            ]
          },
          "metadata": {
            "tags": [],
            "needs_background": "light"
          }
        }
      ]
    },
    {
      "cell_type": "code",
      "metadata": {
        "colab": {
          "base_uri": "https://localhost:8080/",
          "height": 915
        },
        "id": "dt2EKrqwHNWC",
        "outputId": "115bcc4f-5df3-472a-9b94-7b71368e2e8a"
      },
      "source": [
        "shear = np.array([\n",
        "                  [1,0,0],\n",
        "                  [0,1,1],\n",
        "                  [0,0,1]\n",
        "])\n",
        "plot_3d_quiv(X, azimuth=30, elevation=50)\n",
        "plot_3d_quiv(X@shear, azimuth=30, elevation=50)"
      ],
      "execution_count": null,
      "outputs": [
        {
          "output_type": "display_data",
          "data": {
            "image/png": "[encoded data removed]",
            "text/plain": [
              "<Figure size 576x576 with 1 Axes>"
            ]
          },
          "metadata": {
            "tags": [],
            "needs_background": "light"
          }
        },
        {
          "output_type": "display_data",
          "data": {
            "image/png": "[encoded data removed]",
            "text/plain": [
              "<Figure size 576x576 with 1 Axes>"
            ]
          },
          "metadata": {
            "tags": [],
            "needs_background": "light"
          }
        }
      ]
    },
    {
      "cell_type": "code",
      "metadata": {
        "id": "PkiV-hSZHxnJ"
      },
      "source": [
        "def rot_matrix_3d(roll, pitch, yaw):\n",
        "    alpha = [np.deg2rad(roll), np.deg2rad(pitch), np.deg2rad(yaw)]\n",
        "    roll = np.array([\n",
        "        [1,0,0],\n",
        "        [0, np.cos(alpha[0]), -np.sin(alpha[0])],\n",
        "        [0, np.sin(alpha[0]), np.cos(alpha[0])]\n",
        "    ])\n",
        "    pitch = np.array([\n",
        "        [np.cos(alpha[1]), 0, np.sin(alpha[1])],\n",
        "        [0 ,1 ,0],\n",
        "        [-np.sin(alpha[1]), 0, np.cos(alpha[1])]\n",
        "    ])\n",
        "    yaw = np.array([\n",
        "        [np.cos(alpha[2]), -np.sin(alpha[2]), 0],\n",
        "        [np.sin(alpha[2]), np.cos(alpha[2]), 0],\n",
        "        [0,0,1]\n",
        "    ])\n",
        "    res = roll @ pitch @ yaw\n",
        "    return roll, pitch, yaw, res"
      ],
      "execution_count": null,
      "outputs": []
    },
    {
      "cell_type": "code",
      "metadata": {
        "colab": {
          "base_uri": "https://localhost:8080/",
          "height": 466
        },
        "id": "fbS5P7u6IJNz",
        "outputId": "1a86a6ab-5863-4915-b2a8-660030699ae5"
      },
      "source": [
        "r_x, r_y, r_z, r_mat = rot_matrix_3d(roll=0,pitch=0,yaw=0)\n",
        "M = np.array([\n",
        "    [2,0,0],\n",
        "    [0,1,0],\n",
        "    [0,0,0.5]\n",
        "])\n",
        "# scale = 1.5*np.eye(3)\n",
        "plot_3d_quiv(r_mat@M, 30,30)"
      ],
      "execution_count": null,
      "outputs": [
        {
          "output_type": "display_data",
          "data": {
            "image/png": "[encoded data removed]",
            "text/plain": [
              "<Figure size 576x576 with 1 Axes>"
            ]
          },
          "metadata": {
            "tags": [],
            "needs_background": "light"
          }
        }
      ]
    },
    {
      "cell_type": "markdown",
      "metadata": {
        "id": "w_9OkR89dKpB"
      },
      "source": [
        "## 4.3 Image-like transformations"
      ]
    },
    {
      "cell_type": "markdown",
      "metadata": {
        "id": "coVAc-nvdV5H"
      },
      "source": [
        "#### <i>Image display</i>\n",
        "Check out: [`matplotlib.pyplot.imshow`](https://matplotlib.org/3.3.3/api/_as_gen/matplotlib.pyplot.imshow.html)"
      ]
    },
    {
      "cell_type": "code",
      "metadata": {
        "colab": {
          "base_uri": "https://localhost:8080/",
          "height": 282
        },
        "id": "jRheeC0pAEXb",
        "outputId": "8ed289b8-72a0-426d-fa85-d830f867f734"
      },
      "source": [
        "small_img = np.array([\n",
        "                      [255,255,255,255,255],\n",
        "                      [255,0,32,64,255],\n",
        "                      [255,32,0,32,255],\n",
        "                      [255,64,32,0,255],\n",
        "                      [255,255,255,255,255]\n",
        "])\n",
        "plt.imshow(small_img, cmap='gray', vmin=0, vmax=255)"
      ],
      "execution_count": null,
      "outputs": [
        {
          "output_type": "execute_result",
          "data": {
            "text/plain": [
              "<matplotlib.image.AxesImage at 0x7f5d1bd63da0>"
            ]
          },
          "metadata": {
            "tags": []
          },
          "execution_count": 26
        },
        {
          "output_type": "display_data",
          "data": {
            "image/png": "[encoded data removed]",
            "text/plain": [
              "<Figure size 432x288 with 1 Axes>"
            ]
          },
          "metadata": {
            "tags": [],
            "needs_background": "light"
          }
        }
      ]
    },
    {
      "cell_type": "markdown",
      "metadata": {
        "id": "8ziLu1SYeD1x"
      },
      "source": [
        "#### <i>Cropping</i>\n",
        "Cropping can be achieved through index splicing. If we can determine the range that want to crop out we can extract that from the original image."
      ]
    },
    {
      "cell_type": "code",
      "metadata": {
        "colab": {
          "base_uri": "https://localhost:8080/",
          "height": 286
        },
        "id": "txXR4-JQePgQ",
        "outputId": "15a1c793-b03f-4829-f263-a83f45b8e611"
      },
      "source": [
        "## We want the middle 3x3\n",
        "x_min, y_min, x_max, y_max = 1, 1, 4, 4\n",
        "crop_img = small_img[x_min:x_max, y_min:y_max]\n",
        "plt.imshow(crop_img, cmap='gray', vmin=0, vmax=255)"
      ],
      "execution_count": null,
      "outputs": [
        {
          "output_type": "execute_result",
          "data": {
            "text/plain": [
              "<matplotlib.image.AxesImage at 0x7f5d1bce6940>"
            ]
          },
          "metadata": {
            "tags": []
          },
          "execution_count": 28
        },
        {
          "output_type": "display_data",
          "data": {
            "image/png": "[encoded data removed]",
            "text/plain": [
              "<Figure size 432x288 with 1 Axes>"
            ]
          },
          "metadata": {
            "tags": [],
            "needs_background": "light"
          }
        }
      ]
    },
    {
      "cell_type": "markdown",
      "metadata": {
        "id": "XPJF-8jTfzvV"
      },
      "source": [
        "#### <i>Changing Contrast</i>"
      ]
    },
    {
      "cell_type": "code",
      "metadata": {
        "colab": {
          "base_uri": "https://localhost:8080/",
          "height": 286
        },
        "id": "9ZgKRFtcA33z",
        "outputId": "c74a0b44-92bc-4200-8f16-d3ef050836a4"
      },
      "source": [
        "img =  crop_img\n",
        "intensify = 5*np.eye(3)\n",
        "timg = img @ intensify\n",
        "timg = np.clip(timg, a_min=0, a_max=255)\n",
        "plt.imshow(timg, cmap='gray', vmin=0, vmax=255)"
      ],
      "execution_count": null,
      "outputs": [
        {
          "output_type": "execute_result",
          "data": {
            "text/plain": [
              "<matplotlib.image.AxesImage at 0x7f5d1bcc4a90>"
            ]
          },
          "metadata": {
            "tags": []
          },
          "execution_count": 29
        },
        {
          "output_type": "display_data",
          "data": {
            "image/png": "[encoded data removed]",
            "text/plain": [
              "<Figure size 432x288 with 1 Axes>"
            ]
          },
          "metadata": {
            "tags": [],
            "needs_background": "light"
          }
        }
      ]
    },
    {
      "cell_type": "markdown",
      "metadata": {
        "id": "kfs8sQwhoYI1"
      },
      "source": [
        "#### <i>Translating Images</i>\n"
      ]
    },
    {
      "cell_type": "markdown",
      "metadata": {
        "id": "QPDrDHhkoq0q"
      },
      "source": [
        "Let's say you have this matrix as the arrangement of pixels<br>\n",
        "![image](https://drive.google.com/uc?export=view&id=1une-8d1m7EOklb1keEfbNQm3jGo0vkfK)\n",
        "<br>And we wish to transform it into: <br>\n",
        "![image](https://drive.google.com/uc?export=view&id=12dloDdRXQOGw0uSa-pKi3xRJYCRNrUyv)<br>\n",
        "To achieve this, we can find the transformation matrix.\n",
        "We can set the first matrix as the original matrix $A$ as:\n",
        "$$\n",
        "A = \\begin{bmatrix}0&32&64\\\\32&0&32\\\\64&32&0\\end{bmatrix}$$\n",
        "And the transformation that we want $B$ as:\n",
        "$$\n",
        "B = \\begin{bmatrix}64&32&0\\\\32&0&32\\\\0&32&64\\end{bmatrix}$$\n",
        "Using the concept of linear transformation we can find determine how $A$ becomes $B$ through some matrix $X$ multiplied to $A$. We can model it as:\n",
        "$$A\\cdot X=B \\\\ A^{-1}\\cdot A \\cdot X = A^{-1} \\cdot B \\\\ I \\cdot X = A^{-1}\\cdot B \\\\ X = A^{-1}\\cdot B$$\n",
        "\n"
      ]
    },
    {
      "cell_type": "code",
      "metadata": {
        "id": "uXaYoMyxoeFF"
      },
      "source": [
        "A = np.array([\n",
        "              [0,32,64],\n",
        "              [32,0,32],\n",
        "              [64,32,0]\n",
        "])\n",
        "B = np.array([\n",
        "              [64,32,0],\n",
        "              [32,0,32],\n",
        "              [0,32,64]\n",
        "])"
      ],
      "execution_count": null,
      "outputs": []
    },
    {
      "cell_type": "code",
      "metadata": {
        "colab": {
          "base_uri": "https://localhost:8080/"
        },
        "id": "dijxjZkrvEHc",
        "outputId": "e618a4cd-ab40-4875-f610-e2609d50d21d"
      },
      "source": [
        "X = np.linalg.inv(A)@B\n",
        "print(X)"
      ],
      "execution_count": null,
      "outputs": [
        {
          "output_type": "stream",
          "text": [
            "[[0. 0. 1.]\n",
            " [0. 1. 0.]\n",
            " [1. 0. 0.]]\n"
          ],
          "name": "stdout"
        }
      ]
    },
    {
      "cell_type": "code",
      "metadata": {
        "colab": {
          "base_uri": "https://localhost:8080/",
          "height": 286
        },
        "id": "X-e2uqh-vil0",
        "outputId": "4d46bccf-d558-4952-bb3d-dc0c072c6a96"
      },
      "source": [
        "plt.imshow(A, cmap='gray', vmin=0, vmax=255)"
      ],
      "execution_count": null,
      "outputs": [
        {
          "output_type": "execute_result",
          "data": {
            "text/plain": [
              "<matplotlib.image.AxesImage at 0x7f5d2702a048>"
            ]
          },
          "metadata": {
            "tags": []
          },
          "execution_count": 116
        },
        {
          "output_type": "display_data",
          "data": {
            "image/png": "[encoded data removed]",
            "text/plain": [
              "<Figure size 432x288 with 1 Axes>"
            ]
          },
          "metadata": {
            "tags": [],
            "needs_background": "light"
          }
        }
      ]
    },
    {
      "cell_type": "code",
      "metadata": {
        "colab": {
          "base_uri": "https://localhost:8080/",
          "height": 286
        },
        "id": "qKYXNMNgvKNo",
        "outputId": "02746680-ff2e-44db-ff24-efd720800bfd"
      },
      "source": [
        "plt.imshow(A@X, cmap='gray', vmin=0, vmax=255)"
      ],
      "execution_count": null,
      "outputs": [
        {
          "output_type": "execute_result",
          "data": {
            "text/plain": [
              "<matplotlib.image.AxesImage at 0x7f5d1bf82f60>"
            ]
          },
          "metadata": {
            "tags": []
          },
          "execution_count": 115
        },
        {
          "output_type": "display_data",
          "data": {
            "image/png": "[encoded data removed]",
            "text/plain": [
              "<Figure size 432x288 with 1 Axes>"
            ]
          },
          "metadata": {
            "tags": [],
            "needs_background": "light"
          }
        }
      ]
    },
    {
      "cell_type": "markdown",
      "metadata": {
        "id": "Qboq-Mh-f9U6"
      },
      "source": [
        "#### <i>Tensors as Images</i>\n",
        "When we stack separate matrices together considering them as each channel (R,G,B) so we can create a colored image. <br>\n",
        "![image](https://lh3.googleusercontent.com/proxy/vD60YDeDMVbs27ZCjb9pen9ftIUoxyF0qCfp0IVG9cD9N9vxZY3kN71CEX7babnKnilCng2XYqZ8vOUtvtS7KFH8TcnB-bw)<br>\n",
        "Check out:\n",
        "* [np.ndstack](https://numpy.org/doc/stable/reference/generated/numpy.dstack.html)\n",
        "* [matplotlib.pyplot.subplot](https://matplotlib.org/3.3.3/api/_as_gen/matplotlib.pyplot.subplot.html)"
      ]
    },
    {
      "cell_type": "code",
      "metadata": {
        "id": "B1bTvd0CgIAe"
      },
      "source": [
        "reds = np.array([\n",
        "                 [255,0],\n",
        "                 [0,255]\n",
        "])\n",
        "greens = np.array([\n",
        "                 [0,255],\n",
        "                 [0,255]\n",
        "])\n",
        "blues = np.array([\n",
        "                 [0,0],\n",
        "                 [255,0]\n",
        "])"
      ],
      "execution_count": null,
      "outputs": []
    },
    {
      "cell_type": "code",
      "metadata": {
        "colab": {
          "base_uri": "https://localhost:8080/",
          "height": 150
        },
        "id": "TAPhtvAkhNCc",
        "outputId": "3b52450e-fb95-4167-8f18-757a23f2f7df"
      },
      "source": [
        "plt.subplot(131)\n",
        "plt.imshow(reds, cmap='gray', vmin=0, vmax=255)\n",
        "plt.subplot(132)\n",
        "plt.imshow(blues, cmap='gray', vmin=0, vmax=255)\n",
        "plt.subplot(133)\n",
        "plt.imshow(greens, cmap='gray', vmin=0, vmax=255)\n",
        "plt.show()"
      ],
      "execution_count": null,
      "outputs": [
        {
          "output_type": "display_data",
          "data": {
            "image/png": "[encoded data removed]",
            "text/plain": [
              "<Figure size 432x288 with 3 Axes>"
            ]
          },
          "metadata": {
            "tags": [],
            "needs_background": "light"
          }
        }
      ]
    },
    {
      "cell_type": "code",
      "metadata": {
        "colab": {
          "base_uri": "https://localhost:8080/"
        },
        "id": "n7TWQMSwiA3S",
        "outputId": "138367f8-1c11-4663-9f33-f1246ed89556"
      },
      "source": [
        "color_image = np.dstack((reds,blues,greens))\n",
        "print(color_image)\n",
        "print(color_image.shape)"
      ],
      "execution_count": null,
      "outputs": [
        {
          "output_type": "stream",
          "text": [
            "[[[255   0   0]\n",
            "  [  0   0 255]]\n",
            "\n",
            " [[  0 255   0]\n",
            "  [255   0 255]]]\n",
            "(2, 2, 3)\n"
          ],
          "name": "stdout"
        }
      ]
    },
    {
      "cell_type": "code",
      "metadata": {
        "colab": {
          "base_uri": "https://localhost:8080/"
        },
        "id": "4iFqltn6kkfB",
        "outputId": "70cc60af-d758-4004-e85d-cfdc61938767"
      },
      "source": [
        "color_image[0]"
      ],
      "execution_count": null,
      "outputs": [
        {
          "output_type": "execute_result",
          "data": {
            "text/plain": [
              "array([[255,  63, 127],\n",
              "       [ 32,  32,  64]])"
            ]
          },
          "metadata": {
            "tags": []
          },
          "execution_count": 107
        }
      ]
    },
    {
      "cell_type": "code",
      "metadata": {
        "colab": {
          "base_uri": "https://localhost:8080/",
          "height": 269
        },
        "id": "7y4zstgIhwOe",
        "outputId": "abe68e48-47a3-4411-f3e8-d3d3973df999"
      },
      "source": [
        "# img = Image.fromarray(color_image)\n",
        "plt.imshow(color_image)\n",
        "plt.show()"
      ],
      "execution_count": null,
      "outputs": [
        {
          "output_type": "display_data",
          "data": {
            "image/png": "[encoded data removed]",
            "text/plain": [
              "<Figure size 432x288 with 1 Axes>"
            ]
          },
          "metadata": {
            "tags": [],
            "needs_background": "light"
          }
        }
      ]
    },
    {
      "cell_type": "markdown",
      "metadata": {
        "id": "QBFCwO_L1S-r"
      },
      "source": [
        "# Summary\n",
        "\n",
        "In this section, we discussed the concepts and applications of Linear Algebra and how to implement them in Python using the NumPy library. We talked about the similarities and differences of vectors, matrices, and tensors. <br>\n",
        "\n",
        "We further talked about the types of matrices according to shape and content as well as how to perform basic element-wise operations such as addition, subtraction, multiplication, division, etc. we also covered matrix algebra operations such as the dot product, inverse of a matrix, determinants, transposition. We then applied it in solving systems of linear equations and linear transformations.<br>\n",
        "\n",
        "On linear transformations, we looked into performing geometric transformations like scaling, shearing, and rotating matrices. We saw that we can also perform transformations with vectors with higher dimensions, and images.<br>\n",
        "Lastly, we saw that images are also matrices and that colored images can be represented as 3D tensors considering the height, width, and color channels of an image.<br>\n",
        "We covered a lot of topics but intentionally overlooked key Linear Algebra lessons such as:\n",
        "* Ranks\n",
        "* Linear Dependence\n",
        "* Change of Spaces\n",
        "* Eigen-things\n",
        "* Orthogonality\n"
      ]
    },
    {
      "cell_type": "markdown",
      "metadata": {
        "id": "KB6N4swP3prV"
      },
      "source": [
        "# References\n",
        "* [NumPy Documentation](https://numpy.org/doc/stable/)\n",
        "* [MatPlotLib Documentation](https://matplotlib.org/3.3.3/contents.html)\n",
        "* P. Walls (2019), [Mathematical Python](https://www.math.ubc.ca/~pwalls/math-python/math.ubc.ca/~pwalls/math-python/linear-algebra/linear-algebra-scipy/), University of British Columbia\n",
        "* I. Goodfellow, Y. Bengio, A. Courville (2016), [Deep Learning](https://www.deeplearningbook.org/), University of British Columbia\n"
      ]
    }
  ]
}